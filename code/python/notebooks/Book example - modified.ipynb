{
 "metadata": {
  "name": ""
 },
 "nbformat": 3,
 "nbformat_minor": 0,
 "worksheets": [
  {
   "cells": [
    {
     "cell_type": "markdown",
     "metadata": {},
     "source": [
      "Titanic - Chapter 2\n",
      "===================="
     ]
    },
    {
     "cell_type": "code",
     "collapsed": false,
     "input": [
      "%pylab inline\n",
      "import matplotlib.pyplot as plt\n",
      "import pylab as pl"
     ],
     "language": "python",
     "metadata": {},
     "outputs": [
      {
       "output_type": "stream",
       "stream": "stdout",
       "text": [
        "Populating the interactive namespace from numpy and matplotlib\n"
       ]
      }
     ],
     "prompt_number": 1
    },
    {
     "cell_type": "markdown",
     "metadata": {},
     "source": [
      "Load the data\n",
      "-------------"
     ]
    },
    {
     "cell_type": "code",
     "collapsed": false,
     "input": [
      "from pandas import read_csv\n",
      "\n",
      "\n",
      "train = read_csv('../../../data/original/train.csv')\n",
      "test = read_csv('../../../data/original/test.csv')\n",
      "test_cheat = read_csv('../../../data/processed/Test_WithSurvived.csv')\n",
      "\n",
      "col_names = ['PassengerId','Pclass','Survived','Name','Age','Embarked','Cabin','Ticket','Sex','SibSp','Parch','Fare']\n",
      "col_names_test = col_names[:2] + col_names[3:]\n",
      "\n",
      "train = train[col_names]\n",
      "#test_cheat = test_cheat[col_names]\n",
      "\n",
      "train_X = train.drop('Survived', axis=1)\n",
      "train_y = train.Survived\n",
      "\n",
      "test_cheat_X = test_cheat.drop('Survived', axis=1)\n",
      "test_cheat_y = test_cheat.Survived"
     ],
     "language": "python",
     "metadata": {},
     "outputs": [],
     "prompt_number": 2
    },
    {
     "cell_type": "markdown",
     "metadata": {},
     "source": [
      "Preprocessing the data [43]\n",
      "---------------------------\n",
      "Keep class, age and sex"
     ]
    },
    {
     "cell_type": "code",
     "collapsed": false,
     "input": [
      "keep = ['Pclass', 'Age', 'Sex']\n",
      "train_X = train[keep]\n",
      "test = test[keep]\n",
      "test_cheat_X = test_cheat_X[keep]"
     ],
     "language": "python",
     "metadata": {},
     "outputs": [],
     "prompt_number": 3
    },
    {
     "cell_type": "markdown",
     "metadata": {},
     "source": [
      "### Imput missing features, using mean [44]"
     ]
    },
    {
     "cell_type": "code",
     "collapsed": false,
     "input": [
      "from sklearn.preprocessing import Imputer\n",
      "\n",
      "imp = Imputer(missing_values='NaN', strategy='mean', axis=1)\n",
      "imp.fit(train_X['Age'])\n",
      "train_X.loc[:,'Age'] = imp.transform(train_X['Age'])[0]\n",
      "test.loc[:, 'Age'] = imp.transform(test['Age'])[0]"
     ],
     "language": "python",
     "metadata": {},
     "outputs": [
      {
       "output_type": "stream",
       "stream": "stderr",
       "text": [
        "C:\\Python27\\lib\\site-packages\\pandas\\core\\indexing.py:346: SettingWithCopyWarning: A value is trying to be set on a copy of a slice from a DataFrame.\n",
        "Try using .loc[row_index,col_indexer] = value instead\n",
        "  self.obj[item] = s\n"
       ]
      }
     ],
     "prompt_number": 4
    },
    {
     "cell_type": "markdown",
     "metadata": {},
     "source": [
      "### Encode sex [45]"
     ]
    },
    {
     "cell_type": "markdown",
     "metadata": {},
     "source": [
      "#### Training set"
     ]
    },
    {
     "cell_type": "code",
     "collapsed": false,
     "input": [
      "from sklearn.preprocessing import LabelEncoder\n",
      "enc = LabelEncoder()\n",
      "\n",
      "label_encoder = enc.fit(train_X['Sex'])\n",
      "integer_classes = label_encoder.transform(label_encoder.classes_)\n",
      "\n",
      "t = label_encoder.transform(train_X['Sex'])\n",
      "train_X['Sex'] = t"
     ],
     "language": "python",
     "metadata": {},
     "outputs": [
      {
       "output_type": "stream",
       "stream": "stderr",
       "text": [
        "-c:8: SettingWithCopyWarning: A value is trying to be set on a copy of a slice from a DataFrame.\n",
        "Try using .loc[row_index,col_indexer] = value instead\n"
       ]
      }
     ],
     "prompt_number": 5
    },
    {
     "cell_type": "markdown",
     "metadata": {},
     "source": [
      "#### Test set"
     ]
    },
    {
     "cell_type": "code",
     "collapsed": false,
     "input": [
      "from sklearn.preprocessing import LabelEncoder\n",
      "enc = LabelEncoder()\n",
      "\n",
      "label_encoder = enc.fit(test['Sex'])\n",
      "integer_classes = label_encoder.transform(label_encoder.classes_)\n",
      "\n",
      "t = label_encoder.transform(test['Sex'])\n",
      "test['Sex'] = t"
     ],
     "language": "python",
     "metadata": {},
     "outputs": [],
     "prompt_number": 6
    },
    {
     "cell_type": "markdown",
     "metadata": {},
     "source": [
      "### Encode Pclass\n",
      "#### Training set"
     ]
    },
    {
     "cell_type": "code",
     "collapsed": false,
     "input": [
      "from sklearn.preprocessing import OneHotEncoder\n",
      "from numpy import concatenate, delete\n",
      "\n",
      "\n",
      "enc = LabelEncoder()\n",
      "label_encoder = enc.fit(train_X['Pclass'])\n",
      "integer_classes = label_encoder.transform(label_encoder.classes_).reshape(3, 1)\n",
      "\n",
      "enc = OneHotEncoder()\n",
      "one_hot_encoder = enc.fit(integer_classes)\n",
      "\n",
      "num_of_rows = train_X.shape[0]\n",
      "t = label_encoder.transform(train_X['Pclass']).reshape(num_of_rows, 1)\n",
      "\n",
      "new_features = one_hot_encoder.transform(t)\n",
      "train_X = concatenate([train_X, new_features.toarray()], axis = 1)\n",
      "\n",
      "train_X = delete(train_X, [0], 1)\n",
      "feature_names = ['age', 'sex', 'first_class', 'second_class', 'third_class']\n",
      "\n",
      "train_X = train_X.astype(float)\n",
      "train_y = train_y.astype(float)"
     ],
     "language": "python",
     "metadata": {},
     "outputs": [],
     "prompt_number": 7
    },
    {
     "cell_type": "markdown",
     "metadata": {},
     "source": [
      "#### Test set"
     ]
    },
    {
     "cell_type": "code",
     "collapsed": false,
     "input": [
      "num_of_rows = test.shape[0]\n",
      "t = label_encoder.transform(test['Pclass']).reshape(num_of_rows, 1)\n",
      "\n",
      "new_features = one_hot_encoder.transform(t)\n",
      "test = concatenate([test, new_features.toarray()], axis = 1)\n",
      "\n",
      "test = delete(test, [0], 1)\n",
      "feature_names = ['age', 'sex', 'first_class', 'second_class', 'third_class']\n",
      "\n",
      "test = test.astype(float)"
     ],
     "language": "python",
     "metadata": {},
     "outputs": [],
     "prompt_number": 8
    },
    {
     "cell_type": "markdown",
     "metadata": {},
     "source": [
      "Training a decision tree classifier [47]\n",
      "----------------------------------------"
     ]
    },
    {
     "cell_type": "code",
     "collapsed": false,
     "input": [
      "from sklearn.cross_validation import train_test_split\n",
      "from sklearn import tree\n",
      "\n",
      "X_train, X_test, y_train, y_test = train_test_split(train_X, train_y, test_size=0.25, random_state=33)\n",
      "\n",
      "clf = tree.DecisionTreeClassifier(criterion='entropy', max_depth=3,min_samples_leaf=5)\n",
      "clf = clf.fit(X_train,y_train)"
     ],
     "language": "python",
     "metadata": {},
     "outputs": [],
     "prompt_number": 9
    },
    {
     "cell_type": "markdown",
     "metadata": {},
     "source": [
      "### Visualise [48]\n",
      "To get this install [graphviz](http://www.graphviz.org/) and pydot2. pydot is not compatible with pyparsing2 but it's also possible to just install old pyparsing instead and pydot.\n",
      "\n",
      "`pip install pydot2`"
     ]
    },
    {
     "cell_type": "code",
     "collapsed": false,
     "input": [
      "import pydot, StringIO\n",
      "\n",
      "\n",
      "dot_data = StringIO.StringIO() \n",
      "tree.export_graphviz(clf, out_file=dot_data, feature_names=['age','sex','1st_class','2nd_class', '3rd_class']) \n",
      "\n",
      "graph = pydot.graph_from_dot_data(dot_data.getvalue()) \n",
      "graph.write_png('titanic.png') \n",
      "\n",
      "from IPython.core.display import Image\n",
      "Image(filename='titanic.png')"
     ],
     "language": "python",
     "metadata": {},
     "outputs": [
      {
       "output_type": "stream",
       "stream": "stderr",
       "text": [
        "C:\\Python27\\lib\\site-packages\\pyparsing.py:3546: DeprecationWarning: Operator '<<' is deprecated, use '<<=' instead\n",
        "  ret << Group( Suppress(opener) + ZeroOrMore( ignoreExpr | ret | content ) + Suppress(closer) )\n",
        "C:\\Python27\\lib\\site-packages\\dot_parser.py:471: DeprecationWarning: Operator '<<' is deprecated, use '<<=' instead\n",
        "  edge_point << Group( subgraph | graph_stmt | node_id ).setName('edge_point')\n",
        "C:\\Python27\\lib\\site-packages\\dot_parser.py:477: DeprecationWarning: Operator '<<' is deprecated, use '<<=' instead\n",
        "  stmt_list << OneOrMore(stmt + Optional(semi.suppress()))\n"
       ]
      },
      {
       "metadata": {},
       "output_type": "pyout",
       "png": "[encoded data removed]",
       "prompt_number": 10,
       "text": [
        "<IPython.core.display.Image at 0x16111780>"
       ]
      }
     ],
     "prompt_number": 10
    },
    {
     "cell_type": "markdown",
     "metadata": {},
     "source": [
      "### Performance [50]\n",
      "This is an accurate indicator, not cross-validated."
     ]
    },
    {
     "cell_type": "code",
     "collapsed": false,
     "input": [
      "from sklearn import metrics\n",
      "\n",
      "def measure_performance(X,y,clf, show_accuracy=True, show_classification_report=True, show_confusion_matrix=True):\n",
      "    y_pred=clf.predict(X) \n",
      "    \n",
      "    if show_accuracy:\n",
      "        print \"Accuracy:{0:.3f}\".format(metrics.accuracy_score(y, y_pred)), \"\\n\"\n",
      "\n",
      "    if show_classification_report:\n",
      "        print \"Classification report\"\n",
      "        print metrics.classification_report(y, y_pred),\"\\n\"\n",
      "    \n",
      "    if show_confusion_matrix:\n",
      "        print \"Confussion matrix\"\n",
      "        print metrics.confusion_matrix(y, y_pred),\"\\n\"\n",
      "        \n",
      "\n",
      "measure_performance(X_train,y_train,clf, show_classification_report=False, show_confusion_matrix=False)"
     ],
     "language": "python",
     "metadata": {},
     "outputs": [
      {
       "output_type": "stream",
       "stream": "stdout",
       "text": [
        "Accuracy:0.802 \n",
        "\n"
       ]
      }
     ],
     "prompt_number": 11
    },
    {
     "cell_type": "markdown",
     "metadata": {},
     "source": [
      "### With leave-one-out cross-validation [51]"
     ]
    },
    {
     "cell_type": "code",
     "collapsed": false,
     "input": [
      "from sklearn.cross_validation import cross_val_score, LeaveOneOut\n",
      "from scipy.stats import sem\n",
      "from numpy import mean\n",
      "\n",
      "\n",
      "\n",
      "def loo_cv(X_train, y_train,clf):\n",
      "    loo = LeaveOneOut(X_train[:].shape[0])\n",
      "    scores = np.zeros(X_train[:].shape[0])\n",
      "    \n",
      "    for train_index, test_index in loo:\n",
      "        X_train_cv, X_test_cv = X_train[train_index], X_train[test_index]\n",
      "        y_train_cv, y_test_cv = y_train[train_index], y_train[test_index]\n",
      "        \n",
      "        clf = clf.fit(X_train_cv,y_train_cv)\n",
      "        y_pred = clf.predict(X_test_cv) \n",
      "        \n",
      "        scores[test_index] = metrics.accuracy_score(y_test_cv.astype(int), y_pred.astype(int))\n",
      "        \n",
      "    print (\"Mean score: {0:.3f} (+/-{1:.3f})\").format(mean(scores), sem(scores))\n",
      "        \n",
      "\n",
      "loo_cv(X_train, y_train, clf)"
     ],
     "language": "python",
     "metadata": {},
     "outputs": [
      {
       "output_type": "stream",
       "stream": "stdout",
       "text": [
        "Mean score: 0.802 (+/-0.015)\n"
       ]
      }
     ],
     "prompt_number": 12
    },
    {
     "cell_type": "markdown",
     "metadata": {},
     "source": [
      "Random Forest [52]\n",
      "------------------\n",
      "Random Forest will achieve better performance with a larger number of features."
     ]
    },
    {
     "cell_type": "code",
     "collapsed": false,
     "input": [
      "from sklearn.ensemble import RandomForestClassifier\n",
      "\n",
      "clf = RandomForestClassifier(n_estimators=10, random_state=33)\n",
      "clf = clf.fit(X_train, y_train)\n",
      "\n",
      "loo_cv(X_train, y_train, clf)"
     ],
     "language": "python",
     "metadata": {},
     "outputs": [
      {
       "output_type": "stream",
       "stream": "stdout",
       "text": [
        "Mean score: 0.798 (+/-0.016)\n"
       ]
      }
     ],
     "prompt_number": 13
    },
    {
     "cell_type": "markdown",
     "metadata": {},
     "source": [
      "### Performance [52]"
     ]
    },
    {
     "cell_type": "code",
     "collapsed": false,
     "input": [
      "clf_dt = tree.DecisionTreeClassifier(criterion='entropy', max_depth=3, min_samples_leaf=5)\n",
      "clf_dt.fit(X_train, y_train)\n",
      "\n",
      "measure_performance(X_test, y_test, clf_dt)"
     ],
     "language": "python",
     "metadata": {},
     "outputs": [
      {
       "output_type": "stream",
       "stream": "stdout",
       "text": [
        "Accuracy:0.834 \n",
        "\n",
        "Classification report\n",
        "             precision    recall  f1-score   support\n",
        "\n",
        "        0.0       0.85      0.88      0.86       134\n",
        "        1.0       0.81      0.76      0.79        89\n",
        "\n",
        "avg / total       0.83      0.83      0.83       223\n",
        "\n",
        "\n",
        "Confussion matrix\n",
        "[[118  16]\n",
        " [ 21  68]] \n",
        "\n"
       ]
      }
     ],
     "prompt_number": 14
    },
    {
     "cell_type": "markdown",
     "metadata": {},
     "source": [
      "Advanced\n",
      "========\n",
      "Boat column is missing from Kaggle data"
     ]
    },
    {
     "cell_type": "code",
     "collapsed": false,
     "input": [
      "acolumns = ['Pclass', 'Survived', 'Age', 'Embarked', 'Sex']\n",
      "train.head(3)[acolumns]"
     ],
     "language": "python",
     "metadata": {},
     "outputs": [
      {
       "html": [
        "<div style=\"max-height:1000px;max-width:1500px;overflow:auto;\">\n",
        "<table border=\"1\" class=\"dataframe\">\n",
        "  <thead>\n",
        "    <tr style=\"text-align: right;\">\n",
        "      <th></th>\n",
        "      <th>Pclass</th>\n",
        "      <th>Survived</th>\n",
        "      <th>Age</th>\n",
        "      <th>Embarked</th>\n",
        "      <th>Sex</th>\n",
        "    </tr>\n",
        "  </thead>\n",
        "  <tbody>\n",
        "    <tr>\n",
        "      <th>0</th>\n",
        "      <td> 3</td>\n",
        "      <td> 0</td>\n",
        "      <td> 22</td>\n",
        "      <td> S</td>\n",
        "      <td>   male</td>\n",
        "    </tr>\n",
        "    <tr>\n",
        "      <th>1</th>\n",
        "      <td> 1</td>\n",
        "      <td> 1</td>\n",
        "      <td> 38</td>\n",
        "      <td> C</td>\n",
        "      <td> female</td>\n",
        "    </tr>\n",
        "    <tr>\n",
        "      <th>2</th>\n",
        "      <td> 3</td>\n",
        "      <td> 1</td>\n",
        "      <td> 26</td>\n",
        "      <td> S</td>\n",
        "      <td> female</td>\n",
        "    </tr>\n",
        "  </tbody>\n",
        "</table>\n",
        "<p>3 rows \u00d7 5 columns</p>\n",
        "</div>"
       ],
       "metadata": {},
       "output_type": "pyout",
       "prompt_number": 15,
       "text": [
        "   Pclass  Survived  Age Embarked     Sex\n",
        "0       3         0   22        S    male\n",
        "1       1         1   38        C  female\n",
        "2       3         1   26        S  female\n",
        "\n",
        "[3 rows x 5 columns]"
       ]
      }
     ],
     "prompt_number": 15
    },
    {
     "cell_type": "markdown",
     "metadata": {},
     "source": [
      "Pre-processing [82]\n",
      "--------------------\n",
      "### train"
     ]
    },
    {
     "cell_type": "code",
     "collapsed": false,
     "input": [
      "from sklearn import feature_extraction\n",
      "from pandas import DataFrame\n",
      "\n",
      "\n",
      "def one_hot_dataframe(data, cols, replace=False):\n",
      "    \"\"\" Takes a dataframe and a list of columns that need to be encoded.\n",
      "        Returns a 3-tuple comprising the data, the vectorized data,\n",
      "        and the fitted vectorizor.\n",
      "    \"\"\"\n",
      "    vec = feature_extraction.DictVectorizer()\n",
      "    vecData = DataFrame(vec.fit_transform([data.ix[r, cols].to_dict() for r in xrange(data.shape[0])]).toarray())\n",
      "    vecData.columns = vec.get_feature_names()\n",
      "    vecData.index = data.index\n",
      "    \n",
      "    if replace is True:\n",
      "        data = data.drop(cols, axis=1)\n",
      "        data = data.join(vecData)\n",
      "        \n",
      "    return (data, vecData)\n",
      "\n",
      "\n",
      "train_ohd, train_n = one_hot_dataframe(train, ['Pclass', 'Embarked', 'Sex'], replace=True)"
     ],
     "language": "python",
     "metadata": {},
     "outputs": [],
     "prompt_number": 67
    },
    {
     "cell_type": "markdown",
     "metadata": {},
     "source": [
      "#### Missing values"
     ]
    },
    {
     "cell_type": "code",
     "collapsed": false,
     "input": [
      "mean = train_ohd['Age'].mean()\n",
      "train_ohd['Age'].fillna(mean, inplace=True)\n",
      "train_ohd.fillna(0, inplace=True)"
     ],
     "language": "python",
     "metadata": {},
     "outputs": [],
     "prompt_number": 17
    },
    {
     "cell_type": "markdown",
     "metadata": {},
     "source": [
      "### Build train and test sets [83]"
     ]
    },
    {
     "cell_type": "code",
     "collapsed": false,
     "input": [
      "from sklearn.cross_validation import train_test_split\n",
      "\n",
      "\n",
      "train_target = train_ohd['Survived']\n",
      "train_data = train_ohd.drop(['Name', 'Cabin', 'Ticket', 'SibSp', 'Parch', 'Fare', 'Survived'], axis=1)\n",
      "X_train, X_test, y_train, y_test = train_test_split(train_data, train_target, test_size=0.25, random_state=33)"
     ],
     "language": "python",
     "metadata": {},
     "outputs": [],
     "prompt_number": 18
    },
    {
     "cell_type": "markdown",
     "metadata": {},
     "source": [
      "Build classifier [82]\n",
      "----------------------"
     ]
    },
    {
     "cell_type": "code",
     "collapsed": false,
     "input": [
      "from sklearn import tree\n",
      "from sklearn import metrics\n",
      "\n",
      "\n",
      "dt = tree.DecisionTreeClassifier(criterion='entropy')\n",
      "dt = dt.fit(X_train, y_train)\n",
      "y_pred = dt.predict(X_test)\n",
      "\n",
      "print \"Accuracy:{0:.3f}\".format(metrics.accuracy_score(y_test, y_pred)), \"\\n\""
     ],
     "language": "python",
     "metadata": {},
     "outputs": [
      {
       "output_type": "stream",
       "stream": "stdout",
       "text": [
        "Accuracy:0.735 \n",
        "\n"
       ]
      }
     ],
     "prompt_number": 19
    },
    {
     "cell_type": "markdown",
     "metadata": {},
     "source": [
      "Feature Selection [85]\n",
      "----------------------"
     ]
    },
    {
     "cell_type": "code",
     "collapsed": false,
     "input": [
      "from sklearn import feature_selection\n",
      "\n",
      "\n",
      "fs = feature_selection.SelectPercentile(feature_selection.chi2, percentile=20)\n",
      "X_train_fs = fs.fit_transform(X_train, y_train)\n",
      "\n",
      "dt.fit(X_train_fs, y_train)\n",
      "X_test_fs = fs.transform(X_test)\n",
      "y_pred_fs = dt.predict(X_test_fs)\n",
      "\n",
      "\n",
      "print \"Accuracy:{0:.3f}\".format(metrics.accuracy_score(y_test, y_pred_fs)),\"\\n\""
     ],
     "language": "python",
     "metadata": {},
     "outputs": [
      {
       "output_type": "stream",
       "stream": "stdout",
       "text": [
        "Accuracy:0.812 \n",
        "\n"
       ]
      }
     ],
     "prompt_number": 20
    },
    {
     "cell_type": "markdown",
     "metadata": {},
     "source": [
      "### Optimal number of features [86]"
     ]
    },
    {
     "cell_type": "code",
     "collapsed": false,
     "input": [
      "from sklearn import cross_validation\n",
      "\n",
      "\n",
      "percentiles = range(1, 100, 2)\n",
      "results = []\n",
      "\n",
      "for i in percentiles:\n",
      "    fs = feature_selection.SelectPercentile(feature_selection.chi2, percentile=i)\n",
      "    X_train_fs = fs.fit_transform(X_train, y_train)\n",
      "    \n",
      "    scores = cross_validation.cross_val_score(dt, X_train_fs, y_train, cv=5)\n",
      "    \n",
      "    results = np.append(results, scores.mean())\n",
      "\n",
      "# this occasionally results in several equal values\n",
      "optimal_percentil = np.where(results == results.max())[0]   \n",
      "\n",
      "# so loop over them\n",
      "for p in optimal_percentil:\n",
      "    print \"Optimal number of features:{0}\".format(percentiles[p]), \"\\n\""
     ],
     "language": "python",
     "metadata": {},
     "outputs": [
      {
       "output_type": "stream",
       "stream": "stdout",
       "text": [
        "Optimal number of features:65 \n",
        "\n",
        "Optimal number of features:71 \n",
        "\n",
        "Optimal number of features:73 \n",
        "\n"
       ]
      }
     ],
     "prompt_number": 21
    },
    {
     "cell_type": "code",
     "collapsed": false,
     "input": [
      "pl.figure()\n",
      "pl.xlabel(\"Number of features selected\")\n",
      "pl.ylabel(\"Cross-validation accuracy)\")\n",
      "pl.plot(percentiles, results)\n"
     ],
     "language": "python",
     "metadata": {},
     "outputs": [
      {
       "metadata": {},
       "output_type": "pyout",
       "prompt_number": 22,
       "text": [
        "[<matplotlib.lines.Line2D at 0x1d91a58>]"
       ]
      },
      {
       "metadata": {},
       "output_type": "display_data",
       "png": "[encoded data removed]",
       "text": [
        "<matplotlib.figure.Figure at 0x162f41d0>"
       ]
      }
     ],
     "prompt_number": 22
    },
    {
     "cell_type": "markdown",
     "metadata": {},
     "source": [
      "### Performance on test set [87]"
     ]
    },
    {
     "cell_type": "code",
     "collapsed": false,
     "input": [
      "# pick one of the optimal percentiles, last, should (?) have the same accuracy as the other ones\n",
      "fs = feature_selection.SelectPercentile(feature_selection.chi2, percentile=percentiles[optimal_percentil[-1]])\n",
      "\n",
      "X_train_fs = fs.fit_transform(X_train, y_train)\n",
      "dt.fit(X_train_fs, y_train)\n",
      "\n",
      "X_test_fs = fs.transform(X_test)\n",
      "y_pred_fs = dt.predict(X_test_fs)\n",
      "\n",
      "print \"Accuracy:{0:.3f}\".format(metrics.accuracy_score(y_test, y_pred_fs)), \"\\n\""
     ],
     "language": "python",
     "metadata": {},
     "outputs": [
      {
       "output_type": "stream",
       "stream": "stdout",
       "text": [
        "Accuracy:0.848 \n",
        "\n"
       ]
      }
     ],
     "prompt_number": 23
    },
    {
     "cell_type": "markdown",
     "metadata": {},
     "source": [
      "#### Change parameters [87]"
     ]
    },
    {
     "cell_type": "code",
     "collapsed": false,
     "input": [
      "dt = tree.DecisionTreeClassifier(criterion='entropy')\n",
      "scores = cross_validation.cross_val_score(dt, X_train_fs, y_train, cv=5)\n",
      "\n",
      "print \"Entropy criterion accuracy on cv: {0:.3f}\".format(scores.mean())\n",
      "\n",
      "\n",
      "dt = tree.DecisionTreeClassifier(criterion='gini')\n",
      "scores = cross_validation.cross_val_score(dt, X_train_fs, y_train, cv=5)\n",
      "\n",
      "print \"Gini criterion accuracy on cv: {0:.3f}\".format(scores.mean())"
     ],
     "language": "python",
     "metadata": {},
     "outputs": [
      {
       "output_type": "stream",
       "stream": "stdout",
       "text": [
        "Entropy criterion accuracy on cv: 0.789\n",
        "Gini criterion accuracy on cv: 0.783\n"
       ]
      }
     ],
     "prompt_number": 24
    },
    {
     "cell_type": "markdown",
     "metadata": {},
     "source": [
      "#### Try with test set [88]"
     ]
    },
    {
     "cell_type": "code",
     "collapsed": false,
     "input": [
      "dt.fit(X_train_fs, y_train)\n",
      "X_test_fs = fs.transform(X_test)\n",
      "y_pred_fs = dt.predict(X_test_fs)\n",
      "\n",
      "print \"Accuracy: {0:.3f}\".format(metrics.accuracy_score(y_test, y_pred_fs)),\"\\n\""
     ],
     "language": "python",
     "metadata": {},
     "outputs": [
      {
       "output_type": "stream",
       "stream": "stdout",
       "text": [
        "Accuracy: 0.830 \n",
        "\n"
       ]
      }
     ],
     "prompt_number": 25
    },
    {
     "cell_type": "markdown",
     "metadata": {},
     "source": [
      "Advanced  - Model Selection and GridSearch[89]\n",
      "----------------------------------------------\n",
      "Since this isn't Titanic specific, I'll combine the methods from above with model selection and grid search"
     ]
    },
    {
     "cell_type": "code",
     "collapsed": false,
     "input": [
      "def title(x):\n",
      "    titles = [\n",
      "         'Master',\n",
      "         'Miss',\n",
      "         'Mrs',\n",
      "         'Mr',\n",
      "         'Dr',\n",
      "         'Capt',\n",
      "         'Don',\n",
      "         'Major',\n",
      "         'Sir',\n",
      "         'Dona',\n",
      "         'Lady',\n",
      "         'the Countess', \n",
      "         'Jonkheer'\n",
      "         ]\n",
      "    for k in titles:\n",
      "        if k in x:\n",
      "            return k\n",
      "    return 'Unknown'\n",
      "\n",
      "def pclass(x):\n",
      "    c = {1: 'first', 2: 'second', 3: 'third'}\n",
      "    return c.get(x, 'unknown')"
     ],
     "language": "python",
     "metadata": {},
     "outputs": [],
     "prompt_number": 26
    },
    {
     "cell_type": "markdown",
     "metadata": {},
     "source": [
      "### Train"
     ]
    },
    {
     "cell_type": "code",
     "collapsed": false,
     "input": [
      "from sklearn import feature_extraction\n",
      "from pandas import DataFrame\n",
      "from sklearn.cross_validation import train_test_split\n",
      "\n",
      "traint = train.copy()\n",
      "traint['Title'] = train.Name.apply(lambda x: title(x))\n",
      "#worse results, why?\n",
      "#traint['Class'] = train.Pclass.apply(lambda x: pclass(x))\n",
      "\n",
      "#encode\n",
      "train_ohd, train_n = one_hot_dataframe(traint, ['Pclass', 'Sex', 'Embarked', 'Title'], replace=True)\n",
      "\n",
      "#impute\n",
      "mean = train_ohd['Age'].mean()\n",
      "train_ohd['Age'].fillna(mean, inplace=True)\n",
      "train_ohd.fillna(0, inplace=True)\n",
      "\n",
      "#split sets\n",
      "train_target = train_ohd['Survived']\n",
      "train_data = train_ohd.drop(['Name', 'Cabin', 'Ticket', 'SibSp', 'Parch', 'Fare', 'Survived'], axis=1)\n",
      "#X_train, X_test, y_train, y_test = train_test_split(train_data, train_target, test_size=0.25, random_state=33)\n",
      "y_train = train_target.as_matrix()\n",
      "X_train = train_data.as_matrix()"
     ],
     "language": "python",
     "metadata": {},
     "outputs": [],
     "prompt_number": 27
    },
    {
     "cell_type": "code",
     "collapsed": false,
     "input": [
      "\n",
      "percentiles = xrange(1, 100, 5)\n",
      "results = []\n",
      "\n",
      "for i in percentiles:\n",
      "    fs = feature_selection.SelectPercentile(feature_selection.chi2, percentile=i)\n",
      "    X_train_fs = fs.fit_transform(X_train, y_train)\n",
      "    \n",
      "    scores = cross_validation.cross_val_score(dt, X_train_fs, y_train, cv=5)\n",
      "    \n",
      "    results = np.append(results, scores.mean())\n",
      "\n",
      "# this occasionally results in several equal values\n",
      "optimal_percentil = np.where(results == results.max())[0]   \n",
      "\n",
      "# so loop over them\n",
      "for p in optimal_percentil:\n",
      "    print \"Optimal number of features:{0}\".format(percentiles[p]), \"\\n\""
     ],
     "language": "python",
     "metadata": {},
     "outputs": [
      {
       "output_type": "stream",
       "stream": "stdout",
       "text": [
        "Optimal number of features:36 \n",
        "\n",
        "Optimal number of features:41 \n",
        "\n"
       ]
      }
     ],
     "prompt_number": 83
    },
    {
     "cell_type": "code",
     "collapsed": false,
     "input": [
      "pl.figure()\n",
      "pl.xlabel(\"Number of features selected\")\n",
      "pl.ylabel(\"Cross-validation accuracy)\")\n",
      "pl.plot(percentiles, results)\n"
     ],
     "language": "python",
     "metadata": {},
     "outputs": [
      {
       "metadata": {},
       "output_type": "pyout",
       "prompt_number": 85,
       "text": [
        "[<matplotlib.lines.Line2D at 0x16637cf8>]"
       ]
      },
      {
       "metadata": {},
       "output_type": "display_data",
       "png": "[encoded data removed]",
       "text": [
        "<matplotlib.figure.Figure at 0x185c3ef0>"
       ]
      }
     ],
     "prompt_number": 85
    },
    {
     "cell_type": "markdown",
     "metadata": {},
     "source": [
      "### Test"
     ]
    },
    {
     "cell_type": "code",
     "collapsed": false,
     "input": [
      "from sklearn import feature_extraction\n",
      "from pandas import DataFrame\n",
      "from sklearn.cross_validation import train_test_split\n",
      "\n",
      "testt = test_cheat.copy()\n",
      "testt['Title'] = testt.Name.apply(lambda x: title(x))\n",
      "#worse results, why?\n",
      "#traint['Class'] = train.Pclass.apply(lambda x: pclass(x))\n",
      "\n",
      "#encode\n",
      "test_ohd, test_n = one_hot_dataframe(testt, ['Pclass', 'Sex', 'Embarked', 'Title'], replace=True)\n",
      "\n",
      "#impute\n",
      "mean = test_ohd['Age'].mean()\n",
      "test_ohd['Age'].fillna(mean, inplace=True)\n",
      "test_ohd.fillna(0, inplace=True)\n",
      "\n",
      "#split sets\n",
      "test_target = test_ohd['Survived']\n",
      "test_data = test_ohd.drop(['Name', 'Cabin', 'Ticket', 'SibSp', 'Parch', 'Fare', 'Survived'], axis=1)\n",
      "#X_train, X_test, y_train, y_test = train_test_split(train_data, train_target, test_size=0.25, random_state=33)\n",
      "y_test = test_target.as_matrix()\n",
      "X_test = test_data.as_matrix()\n",
      "\n",
      "## Features\n",
      "from sklearn import cross_validation\n",
      "\n",
      "\n",
      "percentiles = xrange(1, 100, 5)\n",
      "results = []\n",
      "\n",
      "for i in percentiles:\n",
      "    fs = feature_selection.SelectPercentile(feature_selection.chi2, percentile=i)\n",
      "    X_test_fs = fs.fit_transform(X_test, y_test)\n",
      "    \n",
      "    scores = cross_validation.cross_val_score(dt, X_test_fs, y_test, cv=10)\n",
      "    \n",
      "    results = np.append(results, scores.mean())\n",
      "\n",
      "# this occasionally results in several equal values\n",
      "optimal_percentil = np.where(results == results.max())[0]   \n",
      "\n",
      "# so loop over them\n",
      "for p in optimal_percentil:\n",
      "    print \"Optimal number of features:{0}\".format(percentiles[p]), \"\\n\"\n",
      "    \n",
      "## Plot\n",
      "pl.figure()\n",
      "pl.xlabel(\"Number of features selected\")\n",
      "pl.ylabel(\"Cross-validation accuracy)\")\n",
      "pl.plot(percentiles, results)"
     ],
     "language": "python",
     "metadata": {},
     "outputs": [
      {
       "output_type": "stream",
       "stream": "stdout",
       "text": [
        "Optimal number of features:1 \n",
        "\n",
        "Optimal number of features:6 \n",
        "\n",
        "Optimal number of features:11 \n",
        "\n",
        "Optimal number of features:16 \n",
        "\n",
        "Optimal number of features:21 \n",
        "\n",
        "Optimal number of features:26 \n",
        "\n"
       ]
      },
      {
       "metadata": {},
       "output_type": "pyout",
       "prompt_number": 86,
       "text": [
        "[<matplotlib.lines.Line2D at 0x16252da0>]"
       ]
      },
      {
       "metadata": {},
       "output_type": "display_data",
       "png": "[encoded data removed]",
       "text": [
        "<matplotlib.figure.Figure at 0x161be4a8>"
       ]
      }
     ],
     "prompt_number": 86
    },
    {
     "cell_type": "markdown",
     "metadata": {},
     "source": [
      "### Evaluate"
     ]
    },
    {
     "cell_type": "code",
     "collapsed": false,
     "input": [
      "# pick one of the optimal percentiles, last, should (?) have the same accuracy as the other ones\n",
      "fs = feature_selection.SelectPercentile(feature_selection.chi2, percentile=percentiles[optimal_percentil[-1]])\n",
      "\n",
      "X_test_fs = fs.fit_transform(X_train, y_train)\n",
      "dt.fit(X_train, y_train)\n",
      "\n",
      "X_test_fs = fs.transform(X_train)\n",
      "y_pred_fs = dt.predict(X_test_fs)\n",
      "\n",
      "print \"Accuracy:{0:.3f}\".format(metrics.accuracy_score(y_test, y_pred_fs)), \"\\n\""
     ],
     "language": "python",
     "metadata": {},
     "outputs": [
      {
       "ename": "ValueError",
       "evalue": "Number of features of the model must  match the input. Model n_features is 10 and  input n_features is 4 ",
       "output_type": "pyerr",
       "traceback": [
        "\u001b[1;31m---------------------------------------------------------------------------\u001b[0m\n\u001b[1;31mValueError\u001b[0m                                Traceback (most recent call last)",
        "\u001b[1;32m<ipython-input-88-166cd74c9318>\u001b[0m in \u001b[0;36m<module>\u001b[1;34m()\u001b[0m\n\u001b[0;32m      6\u001b[0m \u001b[1;33m\u001b[0m\u001b[0m\n\u001b[0;32m      7\u001b[0m \u001b[0mX_test_fs\u001b[0m \u001b[1;33m=\u001b[0m \u001b[0mfs\u001b[0m\u001b[1;33m.\u001b[0m\u001b[0mtransform\u001b[0m\u001b[1;33m(\u001b[0m\u001b[0mX_test\u001b[0m\u001b[1;33m)\u001b[0m\u001b[1;33m\u001b[0m\u001b[0m\n\u001b[1;32m----> 8\u001b[1;33m \u001b[0my_pred_fs\u001b[0m \u001b[1;33m=\u001b[0m \u001b[0mdt\u001b[0m\u001b[1;33m.\u001b[0m\u001b[0mpredict\u001b[0m\u001b[1;33m(\u001b[0m\u001b[0mX_test_fs\u001b[0m\u001b[1;33m)\u001b[0m\u001b[1;33m\u001b[0m\u001b[0m\n\u001b[0m\u001b[0;32m      9\u001b[0m \u001b[1;33m\u001b[0m\u001b[0m\n\u001b[0;32m     10\u001b[0m \u001b[1;32mprint\u001b[0m \u001b[1;34m\"Accuracy:{0:.3f}\"\u001b[0m\u001b[1;33m.\u001b[0m\u001b[0mformat\u001b[0m\u001b[1;33m(\u001b[0m\u001b[0mmetrics\u001b[0m\u001b[1;33m.\u001b[0m\u001b[0maccuracy_score\u001b[0m\u001b[1;33m(\u001b[0m\u001b[0my_test\u001b[0m\u001b[1;33m,\u001b[0m \u001b[0my_pred_fs\u001b[0m\u001b[1;33m)\u001b[0m\u001b[1;33m)\u001b[0m\u001b[1;33m,\u001b[0m \u001b[1;34m\"\\n\"\u001b[0m\u001b[1;33m\u001b[0m\u001b[0m\n",
        "\u001b[1;32mC:\\Python27\\lib\\site-packages\\sklearn\\tree\\tree.pyc\u001b[0m in \u001b[0;36mpredict\u001b[1;34m(self, X)\u001b[0m\n\u001b[0;32m    280\u001b[0m                              \u001b[1;34m\" match the input. Model n_features is %s and \"\u001b[0m\u001b[1;33m\u001b[0m\u001b[0m\n\u001b[0;32m    281\u001b[0m                              \u001b[1;34m\" input n_features is %s \"\u001b[0m\u001b[1;33m\u001b[0m\u001b[0m\n\u001b[1;32m--> 282\u001b[1;33m                              % (self.n_features_, n_features))\n\u001b[0m\u001b[0;32m    283\u001b[0m \u001b[1;33m\u001b[0m\u001b[0m\n\u001b[0;32m    284\u001b[0m         \u001b[0mproba\u001b[0m \u001b[1;33m=\u001b[0m \u001b[0mself\u001b[0m\u001b[1;33m.\u001b[0m\u001b[0mtree_\u001b[0m\u001b[1;33m.\u001b[0m\u001b[0mpredict\u001b[0m\u001b[1;33m(\u001b[0m\u001b[0mX\u001b[0m\u001b[1;33m)\u001b[0m\u001b[1;33m\u001b[0m\u001b[0m\n",
        "\u001b[1;31mValueError\u001b[0m: Number of features of the model must  match the input. Model n_features is 10 and  input n_features is 4 "
       ]
      }
     ],
     "prompt_number": 88
    },
    {
     "cell_type": "code",
     "collapsed": false,
     "input": [
      "dt = tree.DecisionTreeClassifier(criterion='entropy')\n",
      "scores = cross_validation.cross_val_score(dt, X_train_fs, y_train, cv=5)\n",
      "\n",
      "print \"Entropy criterion accuracy on cv: {0:.3f}\".format(scores.mean())\n",
      "\n",
      "\n",
      "dt = tree.DecisionTreeClassifier(criterion='gini')\n",
      "scores = cross_validation.cross_val_score(dt, X_test_fs, y_train, cv=5)\n",
      "\n",
      "print \"Gini criterion accuracy on cv: {0:.3f}\".format(scores.mean())\n",
      "\n",
      "\n",
      "dt.fit(X_test_fs, y_test)\n",
      "X_test_fs = fs.transform(X_test)\n",
      "y_pred_fs = dt.predict(X_test_fs)\n",
      "\n",
      "print \"Accuracy: {0:.3f}\".format(metrics.accuracy_score(y_test, y_pred_fs)),\"\\n\""
     ],
     "language": "python",
     "metadata": {},
     "outputs": [
      {
       "ename": "ValueError",
       "evalue": "Found array with dim 891. Expected 418",
       "output_type": "pyerr",
       "traceback": [
        "\u001b[1;31m---------------------------------------------------------------------------\u001b[0m\n\u001b[1;31mValueError\u001b[0m                                Traceback (most recent call last)",
        "\u001b[1;32m<ipython-input-73-b86e42a1a15d>\u001b[0m in \u001b[0;36m<module>\u001b[1;34m()\u001b[0m\n\u001b[0;32m      6\u001b[0m \u001b[1;33m\u001b[0m\u001b[0m\n\u001b[0;32m      7\u001b[0m \u001b[0mdt\u001b[0m \u001b[1;33m=\u001b[0m \u001b[0mtree\u001b[0m\u001b[1;33m.\u001b[0m\u001b[0mDecisionTreeClassifier\u001b[0m\u001b[1;33m(\u001b[0m\u001b[0mcriterion\u001b[0m\u001b[1;33m=\u001b[0m\u001b[1;34m'gini'\u001b[0m\u001b[1;33m)\u001b[0m\u001b[1;33m\u001b[0m\u001b[0m\n\u001b[1;32m----> 8\u001b[1;33m \u001b[0mscores\u001b[0m \u001b[1;33m=\u001b[0m \u001b[0mcross_validation\u001b[0m\u001b[1;33m.\u001b[0m\u001b[0mcross_val_score\u001b[0m\u001b[1;33m(\u001b[0m\u001b[0mdt\u001b[0m\u001b[1;33m,\u001b[0m \u001b[0mX_test_fs\u001b[0m\u001b[1;33m,\u001b[0m \u001b[0my_train\u001b[0m\u001b[1;33m,\u001b[0m \u001b[0mcv\u001b[0m\u001b[1;33m=\u001b[0m\u001b[1;36m5\u001b[0m\u001b[1;33m)\u001b[0m\u001b[1;33m\u001b[0m\u001b[0m\n\u001b[0m\u001b[0;32m      9\u001b[0m \u001b[1;33m\u001b[0m\u001b[0m\n\u001b[0;32m     10\u001b[0m \u001b[1;32mprint\u001b[0m \u001b[1;34m\"Gini criterion accuracy on cv: {0:.3f}\"\u001b[0m\u001b[1;33m.\u001b[0m\u001b[0mformat\u001b[0m\u001b[1;33m(\u001b[0m\u001b[0mscores\u001b[0m\u001b[1;33m.\u001b[0m\u001b[0mmean\u001b[0m\u001b[1;33m(\u001b[0m\u001b[1;33m)\u001b[0m\u001b[1;33m)\u001b[0m\u001b[1;33m\u001b[0m\u001b[0m\n",
        "\u001b[1;32mC:\\Python27\\lib\\site-packages\\sklearn\\cross_validation.pyc\u001b[0m in \u001b[0;36mcross_val_score\u001b[1;34m(estimator, X, y, scoring, cv, n_jobs, verbose, fit_params, score_func, pre_dispatch)\u001b[0m\n\u001b[0;32m   1130\u001b[0m         \u001b[0mArray\u001b[0m \u001b[0mof\u001b[0m \u001b[0mscores\u001b[0m \u001b[0mof\u001b[0m \u001b[0mthe\u001b[0m \u001b[0mestimator\u001b[0m \u001b[1;32mfor\u001b[0m \u001b[0meach\u001b[0m \u001b[0mrun\u001b[0m \u001b[0mof\u001b[0m \u001b[0mthe\u001b[0m \u001b[0mcross\u001b[0m \u001b[0mvalidation\u001b[0m\u001b[1;33m.\u001b[0m\u001b[1;33m\u001b[0m\u001b[0m\n\u001b[0;32m   1131\u001b[0m     \"\"\"\n\u001b[1;32m-> 1132\u001b[1;33m     \u001b[0mX\u001b[0m\u001b[1;33m,\u001b[0m \u001b[0my\u001b[0m \u001b[1;33m=\u001b[0m \u001b[0mcheck_arrays\u001b[0m\u001b[1;33m(\u001b[0m\u001b[0mX\u001b[0m\u001b[1;33m,\u001b[0m \u001b[0my\u001b[0m\u001b[1;33m,\u001b[0m \u001b[0msparse_format\u001b[0m\u001b[1;33m=\u001b[0m\u001b[1;34m'csr'\u001b[0m\u001b[1;33m,\u001b[0m \u001b[0mallow_lists\u001b[0m\u001b[1;33m=\u001b[0m\u001b[0mTrue\u001b[0m\u001b[1;33m)\u001b[0m\u001b[1;33m\u001b[0m\u001b[0m\n\u001b[0m\u001b[0;32m   1133\u001b[0m     \u001b[0mcv\u001b[0m \u001b[1;33m=\u001b[0m \u001b[0mcheck_cv\u001b[0m\u001b[1;33m(\u001b[0m\u001b[0mcv\u001b[0m\u001b[1;33m,\u001b[0m \u001b[0mX\u001b[0m\u001b[1;33m,\u001b[0m \u001b[0my\u001b[0m\u001b[1;33m,\u001b[0m \u001b[0mclassifier\u001b[0m\u001b[1;33m=\u001b[0m\u001b[0mis_classifier\u001b[0m\u001b[1;33m(\u001b[0m\u001b[0mestimator\u001b[0m\u001b[1;33m)\u001b[0m\u001b[1;33m)\u001b[0m\u001b[1;33m\u001b[0m\u001b[0m\n\u001b[0;32m   1134\u001b[0m     scorer = _deprecate_loss_and_score_funcs(\n",
        "\u001b[1;32mC:\\Python27\\lib\\site-packages\\sklearn\\utils\\validation.pyc\u001b[0m in \u001b[0;36mcheck_arrays\u001b[1;34m(*arrays, **options)\u001b[0m\n\u001b[0;32m    209\u001b[0m         \u001b[1;32mif\u001b[0m \u001b[0msize\u001b[0m \u001b[1;33m!=\u001b[0m \u001b[0mn_samples\u001b[0m\u001b[1;33m:\u001b[0m\u001b[1;33m\u001b[0m\u001b[0m\n\u001b[0;32m    210\u001b[0m             raise ValueError(\"Found array with dim %d. Expected %d\"\n\u001b[1;32m--> 211\u001b[1;33m                              % (size, n_samples))\n\u001b[0m\u001b[0;32m    212\u001b[0m \u001b[1;33m\u001b[0m\u001b[0m\n\u001b[0;32m    213\u001b[0m         \u001b[1;32mif\u001b[0m \u001b[1;32mnot\u001b[0m \u001b[0mallow_lists\u001b[0m \u001b[1;32mor\u001b[0m \u001b[0mhasattr\u001b[0m\u001b[1;33m(\u001b[0m\u001b[0marray\u001b[0m\u001b[1;33m,\u001b[0m \u001b[1;34m\"shape\"\u001b[0m\u001b[1;33m)\u001b[0m\u001b[1;33m:\u001b[0m\u001b[1;33m\u001b[0m\u001b[0m\n",
        "\u001b[1;31mValueError\u001b[0m: Found array with dim 891. Expected 418"
       ]
      },
      {
       "output_type": "stream",
       "stream": "stdout",
       "text": [
        "Entropy criterion accuracy on cv: 0.777\n"
       ]
      }
     ],
     "prompt_number": 73
    },
    {
     "cell_type": "code",
     "collapsed": false,
     "input": [],
     "language": "python",
     "metadata": {},
     "outputs": []
    }
   ],
   "metadata": {}
  }
 ]
}