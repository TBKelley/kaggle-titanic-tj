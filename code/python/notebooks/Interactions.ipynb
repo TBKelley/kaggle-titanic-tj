{
 "metadata": {
  "name": ""
 },
 "nbformat": 3,
 "nbformat_minor": 0,
 "worksheets": [
  {
   "cells": [
    {
     "cell_type": "code",
     "collapsed": false,
     "input": [
      "%pylab inline\n",
      "from pylab import rcParams, gray\n",
      "import numpy as np\n",
      "from pandas import read_csv \n",
      "\n",
      "rcParams['figure.figsize'] = 10, 7.5\n",
      "rcParams['axes.grid'] = True\n",
      "gray()"
     ],
     "language": "python",
     "metadata": {},
     "outputs": [
      {
       "output_type": "stream",
       "stream": "stdout",
       "text": [
        "Populating the interactive namespace from numpy and matplotlib\n"
       ]
      },
      {
       "metadata": {},
       "output_type": "display_data",
       "text": [
        "<matplotlib.figure.Figure at 0xa4f2c88>"
       ]
      }
     ],
     "prompt_number": 1
    },
    {
     "cell_type": "markdown",
     "metadata": {},
     "source": [
      "Preprocessing\n",
      "============="
     ]
    },
    {
     "cell_type": "code",
     "collapsed": false,
     "input": [
      "from pandas import read_csv\n",
      "\n",
      "\n",
      "train = read_csv('../../../data/original/train.csv')\n",
      "test = read_csv('../../../data/original/test.csv')\n",
      "test_cheat = read_csv('../../../data/processed/Test_WithSurvived.csv')\n",
      "\n",
      "col_names = ['PassengerId','Pclass','Survived','Name','Age','Embarked','Cabin','Ticket','Sex','SibSp','Parch','Fare']\n",
      "col_names_test = col_names[:2] + col_names[3:]\n",
      "\n",
      "train = train[col_names]\n",
      "#test_cheat = test_cheat[col_names]\n",
      "\n",
      "train_X = train.drop('Survived', axis=1)\n",
      "train_y = train.Survived\n",
      "\n",
      "test_cheat_X = test_cheat.drop('Survived', axis=1)\n",
      "test_cheat_y = test_cheat.Survived"
     ],
     "language": "python",
     "metadata": {},
     "outputs": [],
     "prompt_number": 297
    },
    {
     "cell_type": "markdown",
     "metadata": {},
     "source": [
      "Include interactions\n",
      "---------------------\n",
      "Not sure if these will work for classification. Leave the main effects (hierarchy principle).\n",
      "\n",
      "* Combinations of continuous and qualitative variables.\n",
      "* Convert Age and Fare to buckets, combine with other variables"
     ]
    },
    {
     "cell_type": "markdown",
     "metadata": {},
     "source": [
      "### Extract Deck\n",
      "Only about 200 out of 891 examples have this feature and most of those are for 1st class, SKIP"
     ]
    },
    {
     "cell_type": "code",
     "collapsed": false,
     "input": [
      "# from numpy import nan\n",
      "# from pandas import notnull\n",
      "\n",
      "# train['Deck'] = train_X['Cabin'].str.extract('^([A-Z]).*')\n",
      "# test['Deck'] = test['Cabin'].str.extract('^([A-Z]).*')\n",
      "# test_cheat_X['Deck'] = test_cheat_X['Cabin'].str.extract('^([A-Z]).*')"
     ],
     "language": "python",
     "metadata": {},
     "outputs": [],
     "prompt_number": 3
    },
    {
     "cell_type": "markdown",
     "metadata": {},
     "source": [
      "### Extract Title"
     ]
    },
    {
     "cell_type": "code",
     "collapsed": false,
     "input": [
      "def title(x):\n",
      "    titles = [\n",
      "         'Master',\n",
      "         'Miss',\n",
      "         'Mrs',\n",
      "         'Mr',\n",
      "         'Dr',\n",
      "         'Capt',\n",
      "         'Don',\n",
      "         'Major',\n",
      "         'Sir',\n",
      "         'Dona',\n",
      "         'Lady',\n",
      "         'the Countess', \n",
      "         'Jonkheer'\n",
      "         ]\n",
      "    for k in titles:\n",
      "        if k in x:\n",
      "            return k\n",
      "    return 'Unknown'"
     ],
     "language": "python",
     "metadata": {},
     "outputs": [],
     "prompt_number": 4
    },
    {
     "cell_type": "code",
     "collapsed": false,
     "input": [
      "train_X['Title'] = train_X.Name.apply(lambda x: title(x))\n",
      "train_X.ix[train_X['Title'] == 'the Countess', 'Title'] = 'Miss'\n",
      "train_X.ix[train_X['Title'] == 'Jonkheer', 'Title'] = 'Master'\n",
      "train_X.ix[train_X['Title'].isin(['Major', 'Capt']), 'Title'] = 'Military'\n",
      "train_X.ix[train_X['Title'] == 'Don', 'Title'] = 'Mr'"
     ],
     "language": "python",
     "metadata": {},
     "outputs": [],
     "prompt_number": 298
    },
    {
     "cell_type": "code",
     "collapsed": false,
     "input": [
      "train_X.groupby('Title').Title.apply(lambda x: len(x))"
     ],
     "language": "python",
     "metadata": {},
     "outputs": [
      {
       "metadata": {},
       "output_type": "pyout",
       "prompt_number": 299,
       "text": [
        "Title\n",
        "Dr            7\n",
        "Master       41\n",
        "Military      3\n",
        "Miss        183\n",
        "Mr          519\n",
        "Mrs         127\n",
        "Unknown      11\n",
        "dtype: int64"
       ]
      }
     ],
     "prompt_number": 299
    },
    {
     "cell_type": "markdown",
     "metadata": {},
     "source": [
      "### Extract Family Size"
     ]
    },
    {
     "cell_type": "code",
     "collapsed": false,
     "input": [
      "train_X['FamilySize'] = train_X.apply(lambda x: x['Parch'] + x['SibSp'] + 1, axis=1)"
     ],
     "language": "python",
     "metadata": {},
     "outputs": [],
     "prompt_number": 300
    },
    {
     "cell_type": "code",
     "collapsed": false,
     "input": [
      "train_X.groupby('FamilySize').FamilySize.apply(lambda x: len(x))"
     ],
     "language": "python",
     "metadata": {},
     "outputs": [
      {
       "metadata": {},
       "output_type": "pyout",
       "prompt_number": 301,
       "text": [
        "FamilySize\n",
        "1             537\n",
        "2             161\n",
        "3             102\n",
        "4              29\n",
        "5              15\n",
        "6              22\n",
        "7              12\n",
        "8               6\n",
        "11              7\n",
        "dtype: int64"
       ]
      }
     ],
     "prompt_number": 301
    },
    {
     "cell_type": "markdown",
     "metadata": {},
     "source": [
      "### Extract Family Name"
     ]
    },
    {
     "cell_type": "code",
     "collapsed": false,
     "input": [
      "# generate family id based on last name and family size\n",
      "train_X['FamilyId'] = train_X.apply(lambda x: '{}{}'.format(x.FamilySize, x.Name.split(',')[0]), axis=1)\n",
      "\n",
      "# where family size <= 2 make family id = Small\n",
      "train_X.ix[train_X.FamilySize <= 2, 'FamilyId'] = 'Small'\n",
      "\n",
      "\n",
      "# find family ids with low count and also call them Small\n",
      "fids = train_X.groupby('FamilyId').FamilyId.apply(lambda x: len(x))\n",
      "fids = fids[fids <= 2 ] #returns a series, so names are in index\n",
      "train_X.ix[train_X.FamilyId.isin(fids.index), 'FamilyId'] = 'Small'"
     ],
     "language": "python",
     "metadata": {},
     "outputs": [],
     "prompt_number": 306
    },
    {
     "cell_type": "code",
     "collapsed": false,
     "input": [
      "train_X.groupby('FamilyId').FamilyId.apply(lambda x: len(x))"
     ],
     "language": "python",
     "metadata": {},
     "outputs": [
      {
       "metadata": {},
       "output_type": "pyout",
       "prompt_number": 307,
       "text": [
        "FamilyId\n",
        "11Sage          7\n",
        "3Bourke         3\n",
        "3Collyer        3\n",
        "3Goldsmith      3\n",
        "3Hart           3\n",
        "3Hickman        3\n",
        "3Johnson        3\n",
        "3Navratil       3\n",
        "3Taussig        3\n",
        "3Thayer         3\n",
        "3Van Impe       3\n",
        "4Allison        3\n",
        "4Baclini        4\n",
        "4Carter         4\n",
        "4Laroche        3\n",
        "4West           3\n",
        "5Ford           4\n",
        "5Lefebre        4\n",
        "5Palsson        4\n",
        "6Fortune        4\n",
        "6Panula         6\n",
        "6Rice           5\n",
        "6Skoog          6\n",
        "7Andersson      8\n",
        "7Asplund        4\n",
        "8Goodwin        6\n",
        "Small         786\n",
        "dtype: int64"
       ]
      }
     ],
     "prompt_number": 307
    },
    {
     "cell_type": "markdown",
     "metadata": {},
     "source": [
      "### Impute Age"
     ]
    },
    {
     "cell_type": "code",
     "collapsed": false,
     "input": [
      "from pandas import isnull\n",
      "\n",
      "def impute(x, means):\n",
      "    if isnull(x['Age']) and not isnull(x['Title']):\n",
      "        return means[x['Title']]\n",
      "    elif isnull(x['Age']):\n",
      "        return means.mean()\n",
      "    else:\n",
      "        return x['Age']"
     ],
     "language": "python",
     "metadata": {},
     "outputs": [],
     "prompt_number": 9
    },
    {
     "cell_type": "code",
     "collapsed": false,
     "input": [
      "age_by_group = train_X.groupby('Title').Age.mean()\n",
      "train_X['Age'] = train_X.apply(lambda x: impute(x, age_by_group), axis=1)"
     ],
     "language": "python",
     "metadata": {},
     "outputs": [],
     "prompt_number": 308
    },
    {
     "cell_type": "markdown",
     "metadata": {},
     "source": [
      "### Impute Embarked"
     ]
    },
    {
     "cell_type": "code",
     "collapsed": false,
     "input": [
      "train_X.ix[isnull(train_X['Embarked']), 'Embarked'] = 'Unknown'"
     ],
     "language": "python",
     "metadata": {},
     "outputs": [],
     "prompt_number": 309
    },
    {
     "cell_type": "code",
     "collapsed": false,
     "input": [
      "train_X.groupby('Embarked').Embarked.apply(lambda x: len(x))"
     ],
     "language": "python",
     "metadata": {},
     "outputs": [
      {
       "metadata": {},
       "output_type": "pyout",
       "prompt_number": 310,
       "text": [
        "Embarked\n",
        "C           168\n",
        "Q            77\n",
        "S           644\n",
        "Unknown       2\n",
        "dtype: int64"
       ]
      }
     ],
     "prompt_number": 310
    },
    {
     "cell_type": "markdown",
     "metadata": {},
     "source": [
      "### Interactions"
     ]
    },
    {
     "cell_type": "code",
     "collapsed": false,
     "input": [
      "train_X.groupby('Title').Age.apply(lambda x: 'min: {} | max: {}, n={:<4}'.format(str(min(x)), str(max(x)), str(len(x))))"
     ],
     "language": "python",
     "metadata": {},
     "outputs": [
      {
       "metadata": {},
       "output_type": "pyout",
       "prompt_number": 311,
       "text": [
        "Title\n",
        "Dr          min: 23.0 | max: 54.0, n=7   \n",
        "Master      min: 0.42 | max: 38.0, n=41  \n",
        "Military    min: 45.0 | max: 70.0, n=3   \n",
        "Miss        min: 0.75 | max: 63.0, n=183 \n",
        "Mr          min: 11.0 | max: 80.0, n=519 \n",
        "Mrs         min: 14.0 | max: 63.0, n=127 \n",
        "Unknown     min: 24.0 | max: 60.0, n=11  \n",
        "dtype: object"
       ]
      }
     ],
     "prompt_number": 311
    },
    {
     "cell_type": "markdown",
     "metadata": {},
     "source": [
      "Age bracket follows [Interaction of natural survival instincts and\n",
      "internalized social norms exploring the Titanic and\n",
      "Lusitania disasters](http://www.pnas.org/content/early/2010/02/17/0911303107.full.pdf)"
     ]
    },
    {
     "cell_type": "code",
     "collapsed": false,
     "input": [
      "from pandas import cut\n",
      "\n",
      "#r = range(int(np.floor(min(train['Age']))), int(np.ceil(max(train['Age']))), 5)\n",
      "r = [0, 16, 35, int(np.ceil(max(train['Age'])))]\n",
      "labels = ['<16', '16-35', '35<']\n",
      "train_X['AgeBracket'] = cut(train_X['Age'], r, labels=labels, include_lowest=True)"
     ],
     "language": "python",
     "metadata": {},
     "outputs": [],
     "prompt_number": 312
    },
    {
     "cell_type": "code",
     "collapsed": false,
     "input": [
      "train_X.groupby('AgeBracket').AgeBracket.apply(lambda x: len(x))"
     ],
     "language": "python",
     "metadata": {},
     "outputs": [
      {
       "metadata": {},
       "output_type": "pyout",
       "prompt_number": 313,
       "text": [
        "AgeBracket\n",
        "16-35         552\n",
        "35<           235\n",
        "<16           104\n",
        "dtype: int64"
       ]
      }
     ],
     "prompt_number": 313
    },
    {
     "cell_type": "code",
     "collapsed": false,
     "input": [
      "#train['Fare:Age'] = train.Fare * train.Age\n",
      "train_X['AgeBracket:Sex'] = train_X.apply(lambda x: ' : '.join([x['AgeBracket'], x['Sex']]), axis=1)\n",
      "train_X['AgeBracket:Pclass'] = train_X.apply(lambda x: ' : '.join([x['AgeBracket'], str(x['Pclass'])]), axis=1)\n",
      "train_X['AgeBracket:Pclass:Sex'] = train_X.apply(lambda x: ' : '.join([x['AgeBracket'], str(x['Pclass']), x['Sex']]), axis=1)\n",
      "#train['Sex:Title'] = train.apply(lambda x: ' : '.join([x['Sex'], x['Title']]), axis=1)"
     ],
     "language": "python",
     "metadata": {},
     "outputs": [],
     "prompt_number": 314
    },
    {
     "cell_type": "code",
     "collapsed": false,
     "input": [
      "train_X.groupby('AgeBracket:Sex')['AgeBracket:Sex'].apply(lambda x: len(x))"
     ],
     "language": "python",
     "metadata": {},
     "outputs": [
      {
       "metadata": {},
       "output_type": "pyout",
       "prompt_number": 315,
       "text": [
        "AgeBracket:Sex\n",
        "16-35 : female    175\n",
        "16-35 : male      377\n",
        "35< : female       90\n",
        "35< : male        145\n",
        "<16 : female       49\n",
        "<16 : male         55\n",
        "dtype: int64"
       ]
      }
     ],
     "prompt_number": 315
    },
    {
     "cell_type": "code",
     "collapsed": false,
     "input": [
      "train_X.groupby('AgeBracket:Pclass')['AgeBracket:Pclass'].apply(lambda x: len(x))"
     ],
     "language": "python",
     "metadata": {},
     "outputs": [
      {
       "metadata": {},
       "output_type": "pyout",
       "prompt_number": 316,
       "text": [
        "AgeBracket:Pclass\n",
        "16-35 : 1             94\n",
        "16-35 : 2            113\n",
        "16-35 : 3            345\n",
        "35< : 1              113\n",
        "35< : 2               50\n",
        "35< : 3               72\n",
        "<16 : 1                9\n",
        "<16 : 2               21\n",
        "<16 : 3               74\n",
        "dtype: int64"
       ]
      }
     ],
     "prompt_number": 316
    },
    {
     "cell_type": "code",
     "collapsed": false,
     "input": [
      "train_X.groupby('AgeBracket:Pclass:Sex')['AgeBracket:Pclass:Sex'].apply(lambda x: len(x))"
     ],
     "language": "python",
     "metadata": {},
     "outputs": [
      {
       "metadata": {},
       "output_type": "pyout",
       "prompt_number": 317,
       "text": [
        "AgeBracket:Pclass:Sex\n",
        "16-35 : 1 : female        42\n",
        "16-35 : 1 : male          52\n",
        "16-35 : 2 : female        46\n",
        "16-35 : 2 : male          67\n",
        "16-35 : 3 : female        87\n",
        "16-35 : 3 : male         258\n",
        "35< : 1 : female          46\n",
        "35< : 1 : male            67\n",
        "35< : 2 : female          20\n",
        "35< : 2 : male            30\n",
        "35< : 3 : female          24\n",
        "35< : 3 : male            48\n",
        "<16 : 1 : female           6\n",
        "<16 : 1 : male             3\n",
        "<16 : 2 : female          10\n",
        "<16 : 2 : male            11\n",
        "<16 : 3 : female          33\n",
        "<16 : 3 : male            41\n",
        "dtype: int64"
       ]
      }
     ],
     "prompt_number": 317
    },
    {
     "cell_type": "markdown",
     "metadata": {},
     "source": [
      "### Binary features"
     ]
    },
    {
     "cell_type": "code",
     "collapsed": false,
     "input": [
      "from sklearn import feature_extraction\n",
      "from pandas import DataFrame\n",
      "\n",
      "\n",
      "def one_hot_dataframe(data, cols, replace=False):\n",
      "    \"\"\" Takes a dataframe and a list of columns that need to be encoded.\n",
      "        Returns a 3-tuple comprising the data, the vectorized data,\n",
      "        and the fitted vectorizor.\n",
      "    \"\"\"\n",
      "    vec = feature_extraction.DictVectorizer()\n",
      "    vecData = DataFrame(vec.fit_transform([data.ix[r, cols].to_dict() for r in xrange(data.shape[0])]).toarray())\n",
      "    vecData.columns = vec.get_feature_names()\n",
      "    vecData.index = data.index\n",
      "    \n",
      "    if replace is True:\n",
      "        data = data.drop(cols, axis=1)\n",
      "        data = data.join(vecData)\n",
      "        \n",
      "    return (data, vecData)"
     ],
     "language": "python",
     "metadata": {},
     "outputs": [],
     "prompt_number": 318
    },
    {
     "cell_type": "code",
     "collapsed": false,
     "input": [
      "train_X.columns"
     ],
     "language": "python",
     "metadata": {},
     "outputs": [
      {
       "metadata": {},
       "output_type": "pyout",
       "prompt_number": 121,
       "text": [
        "Index([u'PassengerId', u'Pclass', u'Name', u'Age', u'Embarked', u'Cabin', u'Ticket', u'Sex', u'SibSp', u'Parch', u'Fare', u'Title', u'FamilySize', u'FamilyId', u'AgeBracket', u'AgeBracket:Sex', u'AgeBracket:Pclass', u'AgeBracket:Pclass:Sex'], dtype='object')"
       ]
      }
     ],
     "prompt_number": 121
    },
    {
     "cell_type": "code",
     "collapsed": false,
     "input": [
      "traind = train_X.drop(['PassengerId', 'Name', 'Cabin', 'Ticket', 'Fare', 'Parch', \n",
      "                       'SibSp', 'Embarked', 'FamilyId', 'Title'], axis=1)\n",
      "convert = [x for x in traind.columns if x not in ['Age', 'FamilySize', 'AgeBracket', 'Pclass', 'Sex']]\n",
      "train_ohd, train_n = one_hot_dataframe(traind, convert, replace=True)"
     ],
     "language": "python",
     "metadata": {},
     "outputs": [],
     "prompt_number": 372
    },
    {
     "cell_type": "code",
     "collapsed": false,
     "input": [
      "from sklearn.preprocessing import LabelEncoder\n",
      "enc = LabelEncoder()\n",
      "\n",
      "\n",
      "# label_encoder = enc.fit(train_ohd['AgeBracket:Pclass'])\n",
      "# integer_classes = label_encoder.transform(label_encoder.classes_)\n",
      "\n",
      "# t = label_encoder.transform(train_ohd['AgeBracket:Pclass'])\n",
      "# train_ohd['AgeBracket:Pclass'] = t\n",
      "\n",
      "\n",
      "label_encoder = enc.fit(train_ohd['AgeBracket'])\n",
      "integer_classes = label_encoder.transform(label_encoder.classes_)\n",
      "\n",
      "t = label_encoder.transform(train_ohd['AgeBracket'])\n",
      "train_ohd['AgeBracket'] = t\n",
      "\n",
      "\n",
      "label_encoder = enc.fit(train_ohd['Pclass'])\n",
      "integer_classes = label_encoder.transform(label_encoder.classes_)\n",
      "\n",
      "t = label_encoder.transform(train_ohd['Pclass'])\n",
      "train_ohd['Pclass'] = t\n",
      "\n",
      "\n",
      "label_encoder = enc.fit(train_ohd['Sex'])\n",
      "integer_classes = label_encoder.transform(label_encoder.classes_)\n",
      "\n",
      "t = label_encoder.transform(train_ohd['Sex'])\n",
      "train_ohd['Sex'] = t"
     ],
     "language": "python",
     "metadata": {},
     "outputs": [],
     "prompt_number": 373
    },
    {
     "cell_type": "code",
     "collapsed": false,
     "input": [
      "train_ohd.shape"
     ],
     "language": "python",
     "metadata": {},
     "outputs": [
      {
       "metadata": {},
       "output_type": "pyout",
       "prompt_number": 374,
       "text": [
        "(891, 38)"
       ]
      }
     ],
     "prompt_number": 374
    },
    {
     "cell_type": "markdown",
     "metadata": {},
     "source": [
      "Extremely Randomized Forest\n",
      "-------------------------------"
     ]
    },
    {
     "cell_type": "code",
     "collapsed": false,
     "input": [
      "from scipy.stats import sem\n",
      "\n",
      "def mean_score(scores):\n",
      "    \"\"\"Print the empirical mean score and standard error of the mean.\"\"\"\n",
      "    return (\"Mean score: {0:.3f} (+/-{1:.3f})\").format(\n",
      "        np.mean(scores), sem(scores))\n",
      "\n",
      "def display_scores(params, scores, append_star=False):\n",
      "    \"\"\"Format the mean score +/- std error for params\"\"\"\n",
      "    params = \", \".join(\"{0}={1}\".format(k, v)\n",
      "                      for k, v in params.items())\n",
      "    line = \"{0}:\\t{1:.3f} (+/-{2:.3f})\".format(\n",
      "        params, np.mean(scores), sem(scores))\n",
      "    if append_star:\n",
      "        line += \" *\"\n",
      "    return line\n",
      "\n",
      "def display_grid_scores(grid_scores, top=None):\n",
      "    \"\"\"Helper function to format a report on a grid of scores\"\"\"\n",
      "    \n",
      "    grid_scores = sorted(grid_scores, key=lambda x: x[1], reverse=True)\n",
      "    if top is not None:\n",
      "        grid_scores = grid_scores[:top]\n",
      "        \n",
      "    # Compute a threshold for staring models with overlapping\n",
      "    # stderr:\n",
      "    _, best_mean, best_scores = grid_scores[0]\n",
      "    threshold = best_mean - 2 * sem(best_scores)\n",
      "    \n",
      "    for params, mean_score, scores in grid_scores:\n",
      "        append_star = mean_score + 2 * sem(scores) > threshold\n",
      "        print(display_scores(params, scores, append_star=append_star))"
     ],
     "language": "python",
     "metadata": {},
     "outputs": [],
     "prompt_number": 326
    },
    {
     "cell_type": "code",
     "collapsed": false,
     "input": [
      "X = train_ohd\n",
      "y = train_y"
     ],
     "language": "python",
     "metadata": {},
     "outputs": [],
     "prompt_number": 375
    },
    {
     "cell_type": "code",
     "collapsed": false,
     "input": [
      "from sklearn.cross_validation import train_test_split\n",
      "\n",
      "n_samples, n_features = X.shape\n",
      "X_train, X_test, y_train, y_test = train_test_split(\n",
      "    X, y, test_size=0.25, random_state=1)\n",
      "\n",
      "print(\"n_samples=%d\" % n_samples)\n",
      "print(\"n_features=%d\" % n_features)\n",
      "\n",
      "print(\"train data shape: %r, train target shape: %r\"\n",
      "      % (X_train.shape, y_train.shape))\n",
      "print(\"test data shape: %r, test target shape: %r\"\n",
      "      % (X_test.shape, y_test.shape))"
     ],
     "language": "python",
     "metadata": {},
     "outputs": [
      {
       "output_type": "stream",
       "stream": "stdout",
       "text": [
        "n_samples=891\n",
        "n_features=38\n",
        "train data shape: (668L, 38L), train target shape: (668L,)\n",
        "test data shape: (223L, 38L), test target shape: (223L,)\n"
       ]
      }
     ],
     "prompt_number": 376
    },
    {
     "cell_type": "code",
     "collapsed": false,
     "input": [
      "from sklearn.ensemble import ExtraTreesClassifier\n",
      "from sklearn.cross_validation import ShuffleSplit\n",
      "from sklearn.grid_search import GridSearchCV\n",
      "\n",
      "tree_params = {\n",
      "    'criterion': ['gini', 'entropy'],\n",
      "    'min_samples_split': [2, 5, 10, 20, 50],\n",
      "    'max_depth': [10, 200, 400, 600, None],\n",
      "    'bootstrap': [True],\n",
      "    'n_estimators': [10, 50, 100],\n",
      "    'max_features': ['sqrt', 'log2', None]\n",
      "    #'oob_score': [True],\n",
      "}\n",
      "\n",
      "n_subsamples = 500\n",
      "\n",
      "#print(ExtraTreesClassifier())\n",
      "#ExtraTreesClassifier?\n",
      "\n",
      "trees = ExtraTreesClassifier(random_state=1, n_jobs=1)\n",
      "\n",
      "cv = ShuffleSplit(n_subsamples, n_iter=5, test_size=0.1)\n",
      "gs_trees = GridSearchCV(trees, tree_params, n_jobs=1, cv=cv)\n",
      "#%time \n",
      "gs_trees.fit(X_train, y_train)\n",
      "display_grid_scores(gs_trees.grid_scores_)"
     ],
     "language": "python",
     "metadata": {},
     "outputs": [
      {
       "output_type": "stream",
       "stream": "stdout",
       "text": [
        "bootstrap=True, n_estimators=100, min_samples_split=10, criterion=gini, max_features=sqrt, max_depth=600:\t0.888 (+/-0.024) *\n",
        "bootstrap=True, n_estimators=50, min_samples_split=5, criterion=entropy, max_features=sqrt, max_depth=None:\t0.868 (+/-0.022) *\n",
        "bootstrap=True, n_estimators=100, min_samples_split=10, criterion=gini, max_features=None, max_depth=None:\t0.864 (+/-0.012) *\n",
        "bootstrap=True, n_estimators=100, min_samples_split=20, criterion=entropy, max_features=None, max_depth=200:\t0.864 (+/-0.012) *\n",
        "bootstrap=True, n_estimators=100, min_samples_split=2, criterion=gini, max_features=None, max_depth=10:\t0.860 (+/-0.014) *\n",
        "bootstrap=True, n_estimators=100, min_samples_split=10, criterion=gini, max_features=sqrt, max_depth=400:\t0.860 (+/-0.018) *\n",
        "bootstrap=True, n_estimators=100, min_samples_split=2, criterion=entropy, max_features=log2, max_depth=10:\t0.860 (+/-0.021) *\n",
        "bootstrap=True, n_estimators=50, min_samples_split=5, criterion=entropy, max_features=None, max_depth=10:\t0.860 (+/-0.020) *\n",
        "bootstrap=True, n_estimators=50, min_samples_split=2, criterion=gini, max_features=None, max_depth=600:\t0.856 (+/-0.020) *\n",
        "bootstrap=True, n_estimators=100, min_samples_split=20, criterion=gini, max_features=log2, max_depth=None:\t0.856 (+/-0.010) *\n",
        "bootstrap=True, n_estimators=50, min_samples_split=10, criterion=gini, max_features=None, max_depth=None:\t0.856 (+/-0.015) *\n",
        "bootstrap=True, n_estimators=50, min_samples_split=5, criterion=entropy, max_features=log2, max_depth=10:\t0.856 (+/-0.021) *\n",
        "bootstrap=True, n_estimators=50, min_samples_split=10, criterion=entropy, max_features=None, max_depth=200:\t0.856 (+/-0.012) *\n",
        "bootstrap=True, n_estimators=100, min_samples_split=5, criterion=entropy, max_features=sqrt, max_depth=400:\t0.856 (+/-0.012) *\n",
        "bootstrap=True, n_estimators=10, min_samples_split=2, criterion=gini, max_features=None, max_depth=10:\t0.852 (+/-0.016) *\n",
        "bootstrap=True, n_estimators=50, min_samples_split=5, criterion=gini, max_features=None, max_depth=400:\t0.852 (+/-0.016) *\n",
        "bootstrap=True, n_estimators=100, min_samples_split=5, criterion=entropy, max_features=log2, max_depth=10:\t0.852 (+/-0.016) *\n",
        "bootstrap=True, n_estimators=100, min_samples_split=10, criterion=entropy, max_features=log2, max_depth=400:\t0.852 (+/-0.016) *\n",
        "bootstrap=True, n_estimators=50, min_samples_split=10, criterion=entropy, max_features=None, max_depth=400:\t0.852 (+/-0.022) *\n",
        "bootstrap=True, n_estimators=50, min_samples_split=2, criterion=gini, max_features=sqrt, max_depth=10:\t0.848 (+/-0.027) *\n",
        "bootstrap=True, n_estimators=100, min_samples_split=2, criterion=gini, max_features=log2, max_depth=200:\t0.848 (+/-0.008) *\n",
        "bootstrap=True, n_estimators=50, min_samples_split=5, criterion=entropy, max_features=None, max_depth=400:\t0.848 (+/-0.028) *\n",
        "bootstrap=True, n_estimators=10, min_samples_split=5, criterion=entropy, max_features=None, max_depth=None:\t0.848 (+/-0.021) *\n",
        "bootstrap=True, n_estimators=10, min_samples_split=2, criterion=gini, max_features=sqrt, max_depth=10:\t0.844 (+/-0.007) *\n",
        "bootstrap=True, n_estimators=100, min_samples_split=2, criterion=gini, max_features=sqrt, max_depth=10:\t0.844 (+/-0.020) *\n",
        "bootstrap=True, n_estimators=100, min_samples_split=10, criterion=gini, max_features=log2, max_depth=10:\t0.844 (+/-0.024) *\n",
        "bootstrap=True, n_estimators=100, min_samples_split=2, criterion=gini, max_features=log2, max_depth=400:\t0.844 (+/-0.013) *\n",
        "bootstrap=True, n_estimators=10, min_samples_split=20, criterion=gini, max_features=None, max_depth=400:\t0.844 (+/-0.025) *\n",
        "bootstrap=True, n_estimators=50, min_samples_split=10, criterion=gini, max_features=sqrt, max_depth=600:\t0.844 (+/-0.027) *\n",
        "bootstrap=True, n_estimators=100, min_samples_split=5, criterion=gini, max_features=None, max_depth=600:\t0.844 (+/-0.015) *\n",
        "bootstrap=True, n_estimators=10, min_samples_split=20, criterion=gini, max_features=None, max_depth=None:\t0.844 (+/-0.042) *\n",
        "bootstrap=True, n_estimators=50, min_samples_split=10, criterion=entropy, max_features=None, max_depth=10:\t0.844 (+/-0.029) *\n",
        "bootstrap=True, n_estimators=50, min_samples_split=5, criterion=entropy, max_features=log2, max_depth=None:\t0.844 (+/-0.019) *\n",
        "bootstrap=True, n_estimators=100, min_samples_split=2, criterion=gini, max_features=log2, max_depth=10:\t0.840 (+/-0.018) *\n",
        "bootstrap=True, n_estimators=10, min_samples_split=20, criterion=gini, max_features=None, max_depth=10:\t0.840 (+/-0.027) *\n",
        "bootstrap=True, n_estimators=50, min_samples_split=2, criterion=gini, max_features=sqrt, max_depth=200:\t0.840 (+/-0.028) *\n",
        "bootstrap=True, n_estimators=100, min_samples_split=2, criterion=gini, max_features=sqrt, max_depth=200:\t0.840 (+/-0.028) *\n",
        "bootstrap=True, n_estimators=10, min_samples_split=10, criterion=gini, max_features=log2, max_depth=200:\t0.840 (+/-0.023) *\n",
        "bootstrap=True, n_estimators=10, min_samples_split=5, criterion=gini, max_features=sqrt, max_depth=600:\t0.840 (+/-0.014) *\n",
        "bootstrap=True, n_estimators=100, min_samples_split=2, criterion=gini, max_features=log2, max_depth=600:\t0.840 (+/-0.014) *\n",
        "bootstrap=True, n_estimators=50, min_samples_split=5, criterion=gini, max_features=log2, max_depth=600:\t0.840 (+/-0.030) *\n",
        "bootstrap=True, n_estimators=50, min_samples_split=10, criterion=gini, max_features=log2, max_depth=None:\t0.840 (+/-0.009) *\n",
        "bootstrap=True, n_estimators=50, min_samples_split=5, criterion=gini, max_features=None, max_depth=None:\t0.840 (+/-0.022) *\n",
        "bootstrap=True, n_estimators=100, min_samples_split=20, criterion=gini, max_features=None, max_depth=None:\t0.840 (+/-0.029) *\n",
        "bootstrap=True, n_estimators=100, min_samples_split=5, criterion=entropy, max_features=sqrt, max_depth=10:\t0.840 (+/-0.023) *\n",
        "bootstrap=True, n_estimators=100, min_samples_split=20, criterion=entropy, max_features=log2, max_depth=10:\t0.840 (+/-0.038) *\n",
        "bootstrap=True, n_estimators=50, min_samples_split=5, criterion=entropy, max_features=log2, max_depth=200:\t0.840 (+/-0.028) *\n",
        "bootstrap=True, n_estimators=50, min_samples_split=10, criterion=entropy, max_features=log2, max_depth=400:\t0.840 (+/-0.017) *\n",
        "bootstrap=True, n_estimators=10, min_samples_split=50, criterion=entropy, max_features=log2, max_depth=400:\t0.840 (+/-0.037) *\n",
        "bootstrap=True, n_estimators=50, min_samples_split=2, criterion=entropy, max_features=None, max_depth=400:\t0.840 (+/-0.030) *\n",
        "bootstrap=True, n_estimators=50, min_samples_split=10, criterion=entropy, max_features=sqrt, max_depth=600:\t0.840 (+/-0.024) *\n",
        "bootstrap=True, n_estimators=10, min_samples_split=10, criterion=entropy, max_features=None, max_depth=600:\t0.840 (+/-0.019) *\n",
        "bootstrap=True, n_estimators=50, min_samples_split=2, criterion=entropy, max_features=log2, max_depth=None:\t0.840 (+/-0.014) *\n",
        "bootstrap=True, n_estimators=50, min_samples_split=5, criterion=entropy, max_features=None, max_depth=None:\t0.840 (+/-0.013) *\n",
        "bootstrap=True, n_estimators=10, min_samples_split=20, criterion=entropy, max_features=None, max_depth=None:\t0.840 (+/-0.019) *\n",
        "bootstrap=True, n_estimators=10, min_samples_split=50, criterion=entropy, max_features=None, max_depth=None:\t0.840 (+/-0.030) *\n",
        "bootstrap=True, n_estimators=10, min_samples_split=5, criterion=gini, max_features=sqrt, max_depth=10:\t0.836 (+/-0.032) *\n",
        "bootstrap=True, n_estimators=10, min_samples_split=10, criterion=gini, max_features=sqrt, max_depth=10:\t0.836 (+/-0.023) *\n",
        "bootstrap=True, n_estimators=100, min_samples_split=20, criterion=gini, max_features=None, max_depth=10:\t0.836 (+/-0.029) *\n",
        "bootstrap=True, n_estimators=100, min_samples_split=50, criterion=gini, max_features=None, max_depth=200:\t0.836 (+/-0.023) *\n",
        "bootstrap=True, n_estimators=50, min_samples_split=2, criterion=gini, max_features=None, max_depth=400:\t0.836 (+/-0.017) *\n",
        "bootstrap=True, n_estimators=10, min_samples_split=5, criterion=gini, max_features=None, max_depth=400:\t0.836 (+/-0.012) *\n",
        "bootstrap=True, n_estimators=100, min_samples_split=5, criterion=gini, max_features=None, max_depth=400:\t0.836 (+/-0.021) *\n",
        "bootstrap=True, n_estimators=50, min_samples_split=10, criterion=gini, max_features=None, max_depth=400:\t0.836 (+/-0.018) *\n",
        "bootstrap=True, n_estimators=100, min_samples_split=5, criterion=gini, max_features=sqrt, max_depth=600:\t0.836 (+/-0.025) *\n",
        "bootstrap=True, n_estimators=100, min_samples_split=10, criterion=gini, max_features=None, max_depth=600:\t0.836 (+/-0.029) *\n",
        "bootstrap=True, n_estimators=50, min_samples_split=10, criterion=gini, max_features=sqrt, max_depth=None:\t0.836 (+/-0.023) *\n",
        "bootstrap=True, n_estimators=10, min_samples_split=5, criterion=entropy, max_features=log2, max_depth=200:\t0.836 (+/-0.010) *\n",
        "bootstrap=True, n_estimators=50, min_samples_split=2, criterion=entropy, max_features=None, max_depth=200:\t0.836 (+/-0.010) *\n",
        "bootstrap=True, n_estimators=100, min_samples_split=10, criterion=entropy, max_features=None, max_depth=200:\t0.836 (+/-0.021) *\n",
        "bootstrap=True, n_estimators=10, min_samples_split=20, criterion=entropy, max_features=None, max_depth=200:\t0.836 (+/-0.023) *\n",
        "bootstrap=True, n_estimators=50, min_samples_split=50, criterion=entropy, max_features=None, max_depth=600:\t0.836 (+/-0.015) *\n",
        "bootstrap=True, n_estimators=100, min_samples_split=10, criterion=entropy, max_features=log2, max_depth=None:\t0.836 (+/-0.019) *\n",
        "bootstrap=True, n_estimators=10, min_samples_split=20, criterion=gini, max_features=sqrt, max_depth=10:\t0.832 (+/-0.005) *\n",
        "bootstrap=True, n_estimators=50, min_samples_split=20, criterion=gini, max_features=sqrt, max_depth=200:\t0.832 (+/-0.014) *\n",
        "bootstrap=True, n_estimators=50, min_samples_split=5, criterion=gini, max_features=sqrt, max_depth=400:\t0.832 (+/-0.015) *\n",
        "bootstrap=True, n_estimators=100, min_samples_split=5, criterion=gini, max_features=log2, max_depth=400:\t0.832 (+/-0.016) *\n",
        "bootstrap=True, n_estimators=50, min_samples_split=10, criterion=gini, max_features=log2, max_depth=400:\t0.832 (+/-0.029) *\n",
        "bootstrap=True, n_estimators=50, min_samples_split=20, criterion=gini, max_features=sqrt, max_depth=600:\t0.832 (+/-0.021) *\n",
        "bootstrap=True, n_estimators=50, min_samples_split=10, criterion=gini, max_features=log2, max_depth=600:\t0.832 (+/-0.014) *\n",
        "bootstrap=True, n_estimators=10, min_samples_split=10, criterion=gini, max_features=sqrt, max_depth=None:\t0.832 (+/-0.031) *\n",
        "bootstrap=True, n_estimators=50, min_samples_split=20, criterion=gini, max_features=log2, max_depth=None:\t0.832 (+/-0.029) *\n",
        "bootstrap=True, n_estimators=50, min_samples_split=2, criterion=entropy, max_features=sqrt, max_depth=10:\t0.832 (+/-0.024) *\n",
        "bootstrap=True, n_estimators=50, min_samples_split=20, criterion=entropy, max_features=sqrt, max_depth=200:\t0.832 (+/-0.015) *\n",
        "bootstrap=True, n_estimators=10, min_samples_split=10, criterion=entropy, max_features=log2, max_depth=200:\t0.832 (+/-0.014) *\n",
        "bootstrap=True, n_estimators=100, min_samples_split=20, criterion=entropy, max_features=log2, max_depth=200:\t0.832 (+/-0.027) *\n",
        "bootstrap=True, n_estimators=10, min_samples_split=2, criterion=entropy, max_features=None, max_depth=200:\t0.832 (+/-0.015) *\n",
        "bootstrap=True, n_estimators=100, min_samples_split=2, criterion=entropy, max_features=sqrt, max_depth=400:\t0.832 (+/-0.022) *\n",
        "bootstrap=True, n_estimators=100, min_samples_split=10, criterion=entropy, max_features=None, max_depth=400:\t0.832 (+/-0.027) *\n",
        "bootstrap=True, n_estimators=50, min_samples_split=20, criterion=entropy, max_features=sqrt, max_depth=600:\t0.832 (+/-0.027) *\n",
        "bootstrap=True, n_estimators=100, min_samples_split=20, criterion=entropy, max_features=sqrt, max_depth=600:\t0.832 (+/-0.036) *\n",
        "bootstrap=True, n_estimators=100, min_samples_split=5, criterion=entropy, max_features=log2, max_depth=600:\t0.832 (+/-0.033) *\n",
        "bootstrap=True, n_estimators=10, min_samples_split=20, criterion=entropy, max_features=log2, max_depth=600:\t0.832 (+/-0.026) *\n",
        "bootstrap=True, n_estimators=100, min_samples_split=5, criterion=entropy, max_features=None, max_depth=600:\t0.832 (+/-0.021) *\n",
        "bootstrap=True, n_estimators=10, min_samples_split=5, criterion=entropy, max_features=sqrt, max_depth=None:\t0.832 (+/-0.022) *\n",
        "bootstrap=True, n_estimators=100, min_samples_split=5, criterion=entropy, max_features=sqrt, max_depth=None:\t0.832 (+/-0.021) *\n",
        "bootstrap=True, n_estimators=10, min_samples_split=10, criterion=entropy, max_features=sqrt, max_depth=None:\t0.832 (+/-0.021) *\n",
        "bootstrap=True, n_estimators=100, min_samples_split=20, criterion=entropy, max_features=sqrt, max_depth=None:\t0.832 (+/-0.027) *\n",
        "bootstrap=True, n_estimators=10, min_samples_split=5, criterion=entropy, max_features=log2, max_depth=None:\t0.832 (+/-0.023) *\n",
        "bootstrap=True, n_estimators=10, min_samples_split=2, criterion=gini, max_features=log2, max_depth=10:\t0.828 (+/-0.015) *\n",
        "bootstrap=True, n_estimators=10, min_samples_split=5, criterion=gini, max_features=log2, max_depth=10:\t0.828 (+/-0.044) *\n",
        "bootstrap=True, n_estimators=50, min_samples_split=10, criterion=gini, max_features=log2, max_depth=10:\t0.828 (+/-0.032) *\n",
        "bootstrap=True, n_estimators=10, min_samples_split=20, criterion=gini, max_features=sqrt, max_depth=200:\t0.828 (+/-0.019) *\n",
        "bootstrap=True, n_estimators=50, min_samples_split=50, criterion=gini, max_features=sqrt, max_depth=200:\t0.828 (+/-0.030) *\n",
        "bootstrap=True, n_estimators=50, min_samples_split=10, criterion=gini, max_features=log2, max_depth=200:\t0.828 (+/-0.029) *\n",
        "bootstrap=True, n_estimators=10, min_samples_split=20, criterion=gini, max_features=log2, max_depth=200:\t0.828 (+/-0.022) *\n",
        "bootstrap=True, n_estimators=10, min_samples_split=50, criterion=gini, max_features=log2, max_depth=200:\t0.828 (+/-0.010) *\n",
        "bootstrap=True, n_estimators=50, min_samples_split=50, criterion=gini, max_features=log2, max_depth=200:\t0.828 (+/-0.008) *\n",
        "bootstrap=True, n_estimators=10, min_samples_split=10, criterion=gini, max_features=None, max_depth=200:\t0.828 (+/-0.012) *\n",
        "bootstrap=True, n_estimators=50, min_samples_split=20, criterion=gini, max_features=None, max_depth=200:\t0.828 (+/-0.026) *\n",
        "bootstrap=True, n_estimators=10, min_samples_split=10, criterion=gini, max_features=sqrt, max_depth=400:\t0.828 (+/-0.019) *\n",
        "bootstrap=True, n_estimators=100, min_samples_split=10, criterion=gini, max_features=log2, max_depth=400:\t0.828 (+/-0.016) *\n",
        "bootstrap=True, n_estimators=10, min_samples_split=10, criterion=gini, max_features=None, max_depth=400:\t0.828 (+/-0.033) *\n",
        "bootstrap=True, n_estimators=50, min_samples_split=20, criterion=gini, max_features=None, max_depth=400:\t0.828 (+/-0.034) *\n",
        "bootstrap=True, n_estimators=50, min_samples_split=5, criterion=gini, max_features=sqrt, max_depth=600:\t0.828 (+/-0.029) *\n",
        "bootstrap=True, n_estimators=100, min_samples_split=2, criterion=gini, max_features=None, max_depth=600:\t0.828 (+/-0.019) *\n",
        "bootstrap=True, n_estimators=10, min_samples_split=20, criterion=gini, max_features=sqrt, max_depth=None:\t0.828 (+/-0.022) *\n",
        "bootstrap=True, n_estimators=50, min_samples_split=2, criterion=gini, max_features=log2, max_depth=None:\t0.828 (+/-0.010) *\n",
        "bootstrap=True, n_estimators=10, min_samples_split=2, criterion=gini, max_features=None, max_depth=None:\t0.828 (+/-0.012) *\n",
        "bootstrap=True, n_estimators=50, min_samples_split=5, criterion=entropy, max_features=sqrt, max_depth=10:\t0.828 (+/-0.036) *\n",
        "bootstrap=True, n_estimators=50, min_samples_split=20, criterion=entropy, max_features=sqrt, max_depth=10:\t0.828 (+/-0.016) *\n",
        "bootstrap=True, n_estimators=10, min_samples_split=50, criterion=entropy, max_features=sqrt, max_depth=10:\t0.828 (+/-0.024) *\n",
        "bootstrap=True, n_estimators=10, min_samples_split=5, criterion=entropy, max_features=None, max_depth=10:\t0.828 (+/-0.022) *\n",
        "bootstrap=True, n_estimators=50, min_samples_split=20, criterion=entropy, max_features=None, max_depth=10:\t0.828 (+/-0.027) *\n",
        "bootstrap=True, n_estimators=10, min_samples_split=5, criterion=entropy, max_features=sqrt, max_depth=200:\t0.828 (+/-0.014) *\n",
        "bootstrap=True, n_estimators=10, min_samples_split=5, criterion=entropy, max_features=sqrt, max_depth=400:\t0.828 (+/-0.019) *\n",
        "bootstrap=True, n_estimators=50, min_samples_split=5, criterion=entropy, max_features=sqrt, max_depth=400:\t0.828 (+/-0.024) *\n",
        "bootstrap=True, n_estimators=50, min_samples_split=10, criterion=entropy, max_features=sqrt, max_depth=400:\t0.828 (+/-0.034) *\n",
        "bootstrap=True, n_estimators=10, min_samples_split=20, criterion=entropy, max_features=log2, max_depth=400:\t0.828 (+/-0.016) *\n",
        "bootstrap=True, n_estimators=100, min_samples_split=20, criterion=entropy, max_features=log2, max_depth=None:\t0.828 (+/-0.026) *\n",
        "bootstrap=True, n_estimators=100, min_samples_split=5, criterion=gini, max_features=log2, max_depth=10:\t0.824 (+/-0.026) *\n",
        "bootstrap=True, n_estimators=100, min_samples_split=50, criterion=gini, max_features=log2, max_depth=10:\t0.824 (+/-0.026) *\n",
        "bootstrap=True, n_estimators=100, min_samples_split=5, criterion=gini, max_features=None, max_depth=10:\t0.824 (+/-0.016) *\n",
        "bootstrap=True, n_estimators=50, min_samples_split=2, criterion=gini, max_features=sqrt, max_depth=400:\t0.824 (+/-0.020) *\n",
        "bootstrap=True, n_estimators=10, min_samples_split=50, criterion=gini, max_features=log2, max_depth=400:\t0.824 (+/-0.026) *\n",
        "bootstrap=True, n_estimators=50, min_samples_split=50, criterion=gini, max_features=log2, max_depth=400:\t0.824 (+/-0.019) *\n",
        "bootstrap=True, n_estimators=10, min_samples_split=10, criterion=gini, max_features=sqrt, max_depth=600:\t0.824 (+/-0.021) *\n",
        "bootstrap=True, n_estimators=100, min_samples_split=10, criterion=gini, max_features=sqrt, max_depth=None:\t0.824 (+/-0.025) *\n",
        "bootstrap=True, n_estimators=10, min_samples_split=5, criterion=gini, max_features=None, max_depth=None:\t0.824 (+/-0.026) *\n",
        "bootstrap=True, n_estimators=100, min_samples_split=50, criterion=gini, max_features=None, max_depth=None:\t0.824 (+/-0.018) *\n",
        "bootstrap=True, n_estimators=10, min_samples_split=20, criterion=entropy, max_features=sqrt, max_depth=10:\t0.824 (+/-0.028) *\n",
        "bootstrap=True, n_estimators=100, min_samples_split=10, criterion=entropy, max_features=log2, max_depth=10:\t0.824 (+/-0.026) *\n",
        "bootstrap=True, n_estimators=10, min_samples_split=20, criterion=entropy, max_features=log2, max_depth=10:\t0.824 (+/-0.013) *\n",
        "bootstrap=True, n_estimators=10, min_samples_split=10, criterion=entropy, max_features=None, max_depth=10:\t0.824 (+/-0.020) *\n",
        "bootstrap=True, n_estimators=100, min_samples_split=20, criterion=entropy, max_features=None, max_depth=10:\t0.824 (+/-0.029) *\n",
        "bootstrap=True, n_estimators=50, min_samples_split=50, criterion=entropy, max_features=None, max_depth=10:\t0.824 (+/-0.027) *\n",
        "bootstrap=True, n_estimators=10, min_samples_split=10, criterion=entropy, max_features=sqrt, max_depth=400:\t0.824 (+/-0.012) *\n",
        "bootstrap=True, n_estimators=10, min_samples_split=20, criterion=entropy, max_features=sqrt, max_depth=400:\t0.824 (+/-0.016) *\n",
        "bootstrap=True, n_estimators=50, min_samples_split=20, criterion=entropy, max_features=sqrt, max_depth=400:\t0.824 (+/-0.023) *\n",
        "bootstrap=True, n_estimators=10, min_samples_split=20, criterion=entropy, max_features=sqrt, max_depth=600:\t0.824 (+/-0.029) *\n",
        "bootstrap=True, n_estimators=10, min_samples_split=2, criterion=entropy, max_features=log2, max_depth=600:\t0.824 (+/-0.028) *\n",
        "bootstrap=True, n_estimators=10, min_samples_split=20, criterion=entropy, max_features=sqrt, max_depth=None:\t0.824 (+/-0.028) *\n",
        "bootstrap=True, n_estimators=100, min_samples_split=2, criterion=entropy, max_features=None, max_depth=None:\t0.824 (+/-0.019) *\n",
        "bootstrap=True, n_estimators=100, min_samples_split=50, criterion=entropy, max_features=None, max_depth=None:\t0.824 (+/-0.010) *\n",
        "bootstrap=True, n_estimators=100, min_samples_split=10, criterion=gini, max_features=sqrt, max_depth=10:\t0.820 (+/-0.023) *\n",
        "bootstrap=True, n_estimators=100, min_samples_split=20, criterion=gini, max_features=sqrt, max_depth=10:\t0.820 (+/-0.024) *\n",
        "bootstrap=True, n_estimators=10, min_samples_split=5, criterion=gini, max_features=None, max_depth=10:\t0.820 (+/-0.030) *\n",
        "bootstrap=True, n_estimators=100, min_samples_split=10, criterion=gini, max_features=None, max_depth=10:\t0.820 (+/-0.033) *\n",
        "bootstrap=True, n_estimators=100, min_samples_split=50, criterion=gini, max_features=None, max_depth=10:\t0.820 (+/-0.014) *\n",
        "bootstrap=True, n_estimators=100, min_samples_split=5, criterion=gini, max_features=log2, max_depth=200:\t0.820 (+/-0.006)\n",
        "bootstrap=True, n_estimators=100, min_samples_split=20, criterion=gini, max_features=log2, max_depth=200:\t0.820 (+/-0.021) *\n",
        "bootstrap=True, n_estimators=100, min_samples_split=2, criterion=gini, max_features=sqrt, max_depth=400:\t0.820 (+/-0.022) *\n",
        "bootstrap=True, n_estimators=10, min_samples_split=20, criterion=gini, max_features=log2, max_depth=600:\t0.820 (+/-0.032) *\n",
        "bootstrap=True, n_estimators=50, min_samples_split=20, criterion=gini, max_features=sqrt, max_depth=None:\t0.820 (+/-0.038) *\n",
        "bootstrap=True, n_estimators=50, min_samples_split=10, criterion=entropy, max_features=log2, max_depth=10:\t0.820 (+/-0.014) *\n",
        "bootstrap=True, n_estimators=100, min_samples_split=2, criterion=entropy, max_features=None, max_depth=10:\t0.820 (+/-0.043) *\n",
        "bootstrap=True, n_estimators=50, min_samples_split=50, criterion=entropy, max_features=sqrt, max_depth=200:\t0.820 (+/-0.017) *\n",
        "bootstrap=True, n_estimators=100, min_samples_split=10, criterion=entropy, max_features=sqrt, max_depth=400:\t0.820 (+/-0.030) *\n",
        "bootstrap=True, n_estimators=100, min_samples_split=5, criterion=entropy, max_features=None, max_depth=400:\t0.820 (+/-0.031) *\n",
        "bootstrap=True, n_estimators=100, min_samples_split=20, criterion=entropy, max_features=None, max_depth=400:\t0.820 (+/-0.015) *\n",
        "bootstrap=True, n_estimators=50, min_samples_split=20, criterion=entropy, max_features=None, max_depth=600:\t0.820 (+/-0.011) *\n",
        "bootstrap=True, n_estimators=100, min_samples_split=50, criterion=entropy, max_features=log2, max_depth=None:\t0.820 (+/-0.027) *\n",
        "bootstrap=True, n_estimators=50, min_samples_split=2, criterion=gini, max_features=log2, max_depth=10:\t0.816 (+/-0.029) *\n",
        "bootstrap=True, n_estimators=10, min_samples_split=10, criterion=gini, max_features=None, max_depth=10:\t0.816 (+/-0.015) *\n",
        "bootstrap=True, n_estimators=100, min_samples_split=20, criterion=gini, max_features=sqrt, max_depth=200:\t0.816 (+/-0.017) *\n",
        "bootstrap=True, n_estimators=50, min_samples_split=2, criterion=gini, max_features=log2, max_depth=200:\t0.816 (+/-0.019) *\n",
        "bootstrap=True, n_estimators=100, min_samples_split=5, criterion=gini, max_features=None, max_depth=200:\t0.816 (+/-0.025) *\n",
        "bootstrap=True, n_estimators=50, min_samples_split=10, criterion=gini, max_features=None, max_depth=200:\t0.816 (+/-0.030) *\n",
        "bootstrap=True, n_estimators=50, min_samples_split=10, criterion=gini, max_features=None, max_depth=600:\t0.816 (+/-0.015) *\n",
        "bootstrap=True, n_estimators=100, min_samples_split=20, criterion=gini, max_features=None, max_depth=600:\t0.816 (+/-0.017) *\n",
        "bootstrap=True, n_estimators=100, min_samples_split=5, criterion=gini, max_features=sqrt, max_depth=None:\t0.816 (+/-0.023) *\n",
        "bootstrap=True, n_estimators=10, min_samples_split=10, criterion=gini, max_features=log2, max_depth=None:\t0.816 (+/-0.027) *\n",
        "bootstrap=True, n_estimators=50, min_samples_split=50, criterion=gini, max_features=log2, max_depth=None:\t0.816 (+/-0.017) *\n",
        "bootstrap=True, n_estimators=100, min_samples_split=2, criterion=entropy, max_features=sqrt, max_depth=10:\t0.816 (+/-0.023) *\n",
        "bootstrap=True, n_estimators=10, min_samples_split=5, criterion=entropy, max_features=sqrt, max_depth=10:\t0.816 (+/-0.017) *\n",
        "bootstrap=True, n_estimators=10, min_samples_split=5, criterion=entropy, max_features=log2, max_depth=10:\t0.816 (+/-0.023) *\n",
        "bootstrap=True, n_estimators=50, min_samples_split=20, criterion=entropy, max_features=log2, max_depth=10:\t0.816 (+/-0.015) *\n",
        "bootstrap=True, n_estimators=10, min_samples_split=2, criterion=entropy, max_features=sqrt, max_depth=200:\t0.816 (+/-0.015) *\n",
        "bootstrap=True, n_estimators=100, min_samples_split=5, criterion=entropy, max_features=sqrt, max_depth=200:\t0.816 (+/-0.032) *\n",
        "bootstrap=True, n_estimators=10, min_samples_split=20, criterion=entropy, max_features=sqrt, max_depth=200:\t0.816 (+/-0.023) *\n",
        "bootstrap=True, n_estimators=50, min_samples_split=10, criterion=entropy, max_features=log2, max_depth=200:\t0.816 (+/-0.025) *\n",
        "bootstrap=True, n_estimators=50, min_samples_split=20, criterion=entropy, max_features=log2, max_depth=200:\t0.816 (+/-0.023) *"
       ]
      },
      {
       "output_type": "stream",
       "stream": "stdout",
       "text": [
        "\n",
        "bootstrap=True, n_estimators=10, min_samples_split=10, criterion=entropy, max_features=log2, max_depth=400:\t0.816 (+/-0.012)\n",
        "bootstrap=True, n_estimators=100, min_samples_split=5, criterion=entropy, max_features=sqrt, max_depth=600:\t0.816 (+/-0.021) *\n",
        "bootstrap=True, n_estimators=10, min_samples_split=50, criterion=entropy, max_features=sqrt, max_depth=600:\t0.816 (+/-0.015) *\n",
        "bootstrap=True, n_estimators=50, min_samples_split=5, criterion=entropy, max_features=log2, max_depth=600:\t0.816 (+/-0.041) *\n",
        "bootstrap=True, n_estimators=50, min_samples_split=20, criterion=entropy, max_features=log2, max_depth=600:\t0.816 (+/-0.004)\n",
        "bootstrap=True, n_estimators=100, min_samples_split=2, criterion=entropy, max_features=None, max_depth=600:\t0.816 (+/-0.016) *\n",
        "bootstrap=True, n_estimators=100, min_samples_split=10, criterion=entropy, max_features=None, max_depth=600:\t0.816 (+/-0.010)\n",
        "bootstrap=True, n_estimators=10, min_samples_split=2, criterion=entropy, max_features=sqrt, max_depth=None:\t0.816 (+/-0.031) *\n",
        "bootstrap=True, n_estimators=100, min_samples_split=2, criterion=entropy, max_features=sqrt, max_depth=None:\t0.816 (+/-0.026) *\n",
        "bootstrap=True, n_estimators=100, min_samples_split=5, criterion=entropy, max_features=log2, max_depth=None:\t0.816 (+/-0.028) *\n",
        "bootstrap=True, n_estimators=100, min_samples_split=5, criterion=entropy, max_features=None, max_depth=None:\t0.816 (+/-0.019) *\n",
        "bootstrap=True, n_estimators=10, min_samples_split=10, criterion=entropy, max_features=None, max_depth=None:\t0.816 (+/-0.017) *\n",
        "bootstrap=True, n_estimators=10, min_samples_split=5, criterion=gini, max_features=sqrt, max_depth=200:\t0.812 (+/-0.022) *\n",
        "bootstrap=True, n_estimators=100, min_samples_split=5, criterion=gini, max_features=sqrt, max_depth=200:\t0.812 (+/-0.024) *\n",
        "bootstrap=True, n_estimators=10, min_samples_split=5, criterion=gini, max_features=log2, max_depth=200:\t0.812 (+/-0.010)\n",
        "bootstrap=True, n_estimators=10, min_samples_split=2, criterion=gini, max_features=None, max_depth=200:\t0.812 (+/-0.019) *\n",
        "bootstrap=True, n_estimators=100, min_samples_split=5, criterion=gini, max_features=sqrt, max_depth=400:\t0.812 (+/-0.035) *\n",
        "bootstrap=True, n_estimators=50, min_samples_split=5, criterion=gini, max_features=log2, max_depth=400:\t0.812 (+/-0.030) *\n",
        "bootstrap=True, n_estimators=100, min_samples_split=20, criterion=gini, max_features=log2, max_depth=400:\t0.812 (+/-0.034) *\n",
        "bootstrap=True, n_estimators=100, min_samples_split=2, criterion=gini, max_features=None, max_depth=400:\t0.812 (+/-0.027) *\n",
        "bootstrap=True, n_estimators=100, min_samples_split=50, criterion=gini, max_features=sqrt, max_depth=600:\t0.812 (+/-0.019) *\n",
        "bootstrap=True, n_estimators=100, min_samples_split=5, criterion=gini, max_features=log2, max_depth=600:\t0.812 (+/-0.014)\n",
        "bootstrap=True, n_estimators=100, min_samples_split=10, criterion=gini, max_features=log2, max_depth=600:\t0.812 (+/-0.022) *\n",
        "bootstrap=True, n_estimators=10, min_samples_split=5, criterion=gini, max_features=None, max_depth=600:\t0.812 (+/-0.022) *\n",
        "bootstrap=True, n_estimators=100, min_samples_split=2, criterion=gini, max_features=sqrt, max_depth=None:\t0.812 (+/-0.036) *\n",
        "bootstrap=True, n_estimators=100, min_samples_split=2, criterion=gini, max_features=log2, max_depth=None:\t0.812 (+/-0.023) *\n",
        "bootstrap=True, n_estimators=10, min_samples_split=5, criterion=gini, max_features=log2, max_depth=None:\t0.812 (+/-0.019) *\n",
        "bootstrap=True, n_estimators=50, min_samples_split=2, criterion=gini, max_features=None, max_depth=None:\t0.812 (+/-0.012)\n",
        "bootstrap=True, n_estimators=100, min_samples_split=5, criterion=gini, max_features=None, max_depth=None:\t0.812 (+/-0.025) *\n",
        "bootstrap=True, n_estimators=100, min_samples_split=10, criterion=entropy, max_features=sqrt, max_depth=10:\t0.812 (+/-0.026) *\n",
        "bootstrap=True, n_estimators=50, min_samples_split=2, criterion=entropy, max_features=log2, max_depth=10:\t0.812 (+/-0.022) *\n",
        "bootstrap=True, n_estimators=10, min_samples_split=2, criterion=entropy, max_features=None, max_depth=10:\t0.812 (+/-0.014)\n",
        "bootstrap=True, n_estimators=100, min_samples_split=10, criterion=entropy, max_features=None, max_depth=10:\t0.812 (+/-0.021) *\n",
        "bootstrap=True, n_estimators=50, min_samples_split=5, criterion=entropy, max_features=sqrt, max_depth=200:\t0.812 (+/-0.017) *\n",
        "bootstrap=True, n_estimators=100, min_samples_split=10, criterion=entropy, max_features=sqrt, max_depth=200:\t0.812 (+/-0.031) *\n",
        "bootstrap=True, n_estimators=100, min_samples_split=50, criterion=entropy, max_features=sqrt, max_depth=200:\t0.812 (+/-0.022) *\n",
        "bootstrap=True, n_estimators=100, min_samples_split=50, criterion=entropy, max_features=log2, max_depth=200:\t0.812 (+/-0.025) *\n",
        "bootstrap=True, n_estimators=100, min_samples_split=5, criterion=entropy, max_features=None, max_depth=200:\t0.812 (+/-0.017) *\n",
        "bootstrap=True, n_estimators=100, min_samples_split=50, criterion=entropy, max_features=None, max_depth=200:\t0.812 (+/-0.031) *\n",
        "bootstrap=True, n_estimators=10, min_samples_split=2, criterion=entropy, max_features=sqrt, max_depth=400:\t0.812 (+/-0.014)\n",
        "bootstrap=True, n_estimators=10, min_samples_split=10, criterion=entropy, max_features=None, max_depth=400:\t0.812 (+/-0.008)\n",
        "bootstrap=True, n_estimators=10, min_samples_split=20, criterion=entropy, max_features=None, max_depth=400:\t0.812 (+/-0.014)\n",
        "bootstrap=True, n_estimators=100, min_samples_split=2, criterion=entropy, max_features=sqrt, max_depth=600:\t0.812 (+/-0.016) *\n",
        "bootstrap=True, n_estimators=10, min_samples_split=10, criterion=entropy, max_features=sqrt, max_depth=600:\t0.812 (+/-0.014)\n",
        "bootstrap=True, n_estimators=100, min_samples_split=10, criterion=entropy, max_features=sqrt, max_depth=600:\t0.812 (+/-0.049) *\n",
        "bootstrap=True, n_estimators=10, min_samples_split=10, criterion=entropy, max_features=log2, max_depth=600:\t0.812 (+/-0.037) *\n",
        "bootstrap=True, n_estimators=50, min_samples_split=10, criterion=entropy, max_features=None, max_depth=600:\t0.812 (+/-0.028) *\n",
        "bootstrap=True, n_estimators=100, min_samples_split=2, criterion=entropy, max_features=log2, max_depth=None:\t0.812 (+/-0.017) *\n",
        "bootstrap=True, n_estimators=10, min_samples_split=20, criterion=entropy, max_features=log2, max_depth=None:\t0.812 (+/-0.026) *\n",
        "bootstrap=True, n_estimators=50, min_samples_split=20, criterion=entropy, max_features=log2, max_depth=None:\t0.812 (+/-0.026) *\n",
        "bootstrap=True, n_estimators=50, min_samples_split=2, criterion=entropy, max_features=None, max_depth=None:\t0.812 (+/-0.024) *\n",
        "bootstrap=True, n_estimators=100, min_samples_split=5, criterion=gini, max_features=sqrt, max_depth=10:\t0.808 (+/-0.017) *\n",
        "bootstrap=True, n_estimators=50, min_samples_split=10, criterion=gini, max_features=sqrt, max_depth=10:\t0.808 (+/-0.023) *\n",
        "bootstrap=True, n_estimators=50, min_samples_split=20, criterion=gini, max_features=log2, max_depth=10:\t0.808 (+/-0.033) *\n",
        "bootstrap=True, n_estimators=50, min_samples_split=5, criterion=gini, max_features=None, max_depth=10:\t0.808 (+/-0.022) *\n",
        "bootstrap=True, n_estimators=50, min_samples_split=20, criterion=gini, max_features=None, max_depth=10:\t0.808 (+/-0.017) *\n",
        "bootstrap=True, n_estimators=100, min_samples_split=10, criterion=gini, max_features=sqrt, max_depth=200:\t0.808 (+/-0.019) *\n",
        "bootstrap=True, n_estimators=10, min_samples_split=5, criterion=gini, max_features=sqrt, max_depth=400:\t0.808 (+/-0.019) *\n",
        "bootstrap=True, n_estimators=100, min_samples_split=50, criterion=gini, max_features=log2, max_depth=400:\t0.808 (+/-0.019) *\n",
        "bootstrap=True, n_estimators=10, min_samples_split=2, criterion=gini, max_features=sqrt, max_depth=600:\t0.808 (+/-0.015)\n",
        "bootstrap=True, n_estimators=10, min_samples_split=2, criterion=gini, max_features=sqrt, max_depth=None:\t0.808 (+/-0.008)\n",
        "bootstrap=True, n_estimators=10, min_samples_split=5, criterion=gini, max_features=sqrt, max_depth=None:\t0.808 (+/-0.025) *\n",
        "bootstrap=True, n_estimators=10, min_samples_split=50, criterion=gini, max_features=log2, max_depth=None:\t0.808 (+/-0.015)\n",
        "bootstrap=True, n_estimators=50, min_samples_split=2, criterion=entropy, max_features=None, max_depth=10:\t0.808 (+/-0.015)\n",
        "bootstrap=True, n_estimators=10, min_samples_split=2, criterion=entropy, max_features=log2, max_depth=200:\t0.808 (+/-0.015)\n",
        "bootstrap=True, n_estimators=100, min_samples_split=5, criterion=entropy, max_features=log2, max_depth=200:\t0.808 (+/-0.015)\n",
        "bootstrap=True, n_estimators=50, min_samples_split=5, criterion=entropy, max_features=None, max_depth=200:\t0.808 (+/-0.019) *\n",
        "bootstrap=True, n_estimators=50, min_samples_split=2, criterion=entropy, max_features=sqrt, max_depth=400:\t0.808 (+/-0.027) *\n",
        "bootstrap=True, n_estimators=50, min_samples_split=2, criterion=entropy, max_features=log2, max_depth=400:\t0.808 (+/-0.014)\n",
        "bootstrap=True, n_estimators=100, min_samples_split=2, criterion=entropy, max_features=log2, max_depth=400:\t0.808 (+/-0.027) *\n",
        "bootstrap=True, n_estimators=10, min_samples_split=5, criterion=entropy, max_features=log2, max_depth=400:\t0.808 (+/-0.012)\n",
        "bootstrap=True, n_estimators=100, min_samples_split=5, criterion=entropy, max_features=log2, max_depth=400:\t0.808 (+/-0.032) *\n",
        "bootstrap=True, n_estimators=50, min_samples_split=2, criterion=entropy, max_features=log2, max_depth=600:\t0.808 (+/-0.021) *\n",
        "bootstrap=True, n_estimators=10, min_samples_split=2, criterion=entropy, max_features=None, max_depth=600:\t0.808 (+/-0.042) *\n",
        "bootstrap=True, n_estimators=50, min_samples_split=2, criterion=entropy, max_features=sqrt, max_depth=None:\t0.808 (+/-0.024) *\n",
        "bootstrap=True, n_estimators=10, min_samples_split=2, criterion=entropy, max_features=None, max_depth=None:\t0.808 (+/-0.015)\n",
        "bootstrap=True, n_estimators=50, min_samples_split=20, criterion=entropy, max_features=None, max_depth=None:\t0.808 (+/-0.022) *\n",
        "bootstrap=True, n_estimators=10, min_samples_split=10, criterion=gini, max_features=sqrt, max_depth=200:\t0.804 (+/-0.027) *\n",
        "bootstrap=True, n_estimators=10, min_samples_split=2, criterion=gini, max_features=log2, max_depth=200:\t0.804 (+/-0.020) *\n",
        "bootstrap=True, n_estimators=10, min_samples_split=2, criterion=gini, max_features=sqrt, max_depth=400:\t0.804 (+/-0.029) *\n",
        "bootstrap=True, n_estimators=50, min_samples_split=10, criterion=gini, max_features=sqrt, max_depth=400:\t0.804 (+/-0.032) *\n",
        "bootstrap=True, n_estimators=10, min_samples_split=2, criterion=gini, max_features=log2, max_depth=400:\t0.804 (+/-0.029) *\n",
        "bootstrap=True, n_estimators=50, min_samples_split=2, criterion=gini, max_features=log2, max_depth=400:\t0.804 (+/-0.020) *\n",
        "bootstrap=True, n_estimators=10, min_samples_split=20, criterion=gini, max_features=log2, max_depth=400:\t0.804 (+/-0.033) *\n",
        "bootstrap=True, n_estimators=50, min_samples_split=20, criterion=gini, max_features=log2, max_depth=400:\t0.804 (+/-0.018) *\n",
        "bootstrap=True, n_estimators=10, min_samples_split=50, criterion=gini, max_features=sqrt, max_depth=600:\t0.804 (+/-0.021) *\n",
        "bootstrap=True, n_estimators=10, min_samples_split=2, criterion=gini, max_features=log2, max_depth=600:\t0.804 (+/-0.007)\n",
        "bootstrap=True, n_estimators=100, min_samples_split=20, criterion=gini, max_features=log2, max_depth=600:\t0.804 (+/-0.031) *\n",
        "bootstrap=True, n_estimators=50, min_samples_split=50, criterion=gini, max_features=None, max_depth=600:\t0.804 (+/-0.016)\n",
        "bootstrap=True, n_estimators=50, min_samples_split=5, criterion=gini, max_features=log2, max_depth=None:\t0.804 (+/-0.020) *\n",
        "bootstrap=True, n_estimators=50, min_samples_split=20, criterion=gini, max_features=None, max_depth=None:\t0.804 (+/-0.023) *\n",
        "bootstrap=True, n_estimators=50, min_samples_split=10, criterion=entropy, max_features=sqrt, max_depth=10:\t0.804 (+/-0.015)\n",
        "bootstrap=True, n_estimators=10, min_samples_split=10, criterion=entropy, max_features=log2, max_depth=10:\t0.804 (+/-0.015)\n",
        "bootstrap=True, n_estimators=10, min_samples_split=50, criterion=entropy, max_features=None, max_depth=10:\t0.804 (+/-0.019) *\n",
        "bootstrap=True, n_estimators=100, min_samples_split=20, criterion=entropy, max_features=sqrt, max_depth=400:\t0.804 (+/-0.019) *\n",
        "bootstrap=True, n_estimators=50, min_samples_split=5, criterion=entropy, max_features=log2, max_depth=400:\t0.804 (+/-0.024) *\n",
        "bootstrap=True, n_estimators=50, min_samples_split=5, criterion=entropy, max_features=sqrt, max_depth=600:\t0.804 (+/-0.020) *\n",
        "bootstrap=True, n_estimators=50, min_samples_split=2, criterion=entropy, max_features=None, max_depth=600:\t0.804 (+/-0.007)\n",
        "bootstrap=True, n_estimators=10, min_samples_split=50, criterion=gini, max_features=log2, max_depth=10:\t0.800 (+/-0.030) *\n",
        "bootstrap=True, n_estimators=10, min_samples_split=2, criterion=gini, max_features=sqrt, max_depth=200:\t0.800 (+/-0.021) *\n",
        "bootstrap=True, n_estimators=10, min_samples_split=50, criterion=gini, max_features=None, max_depth=200:\t0.800 (+/-0.029) *\n",
        "bootstrap=True, n_estimators=50, min_samples_split=50, criterion=gini, max_features=None, max_depth=200:\t0.800 (+/-0.031) *\n",
        "bootstrap=True, n_estimators=10, min_samples_split=5, criterion=gini, max_features=log2, max_depth=400:\t0.800 (+/-0.017)\n",
        "bootstrap=True, n_estimators=50, min_samples_split=50, criterion=gini, max_features=None, max_depth=400:\t0.800 (+/-0.013)\n",
        "bootstrap=True, n_estimators=50, min_samples_split=50, criterion=gini, max_features=sqrt, max_depth=600:\t0.800 (+/-0.021) *\n",
        "bootstrap=True, n_estimators=50, min_samples_split=2, criterion=gini, max_features=log2, max_depth=600:\t0.800 (+/-0.014)\n",
        "bootstrap=True, n_estimators=50, min_samples_split=50, criterion=gini, max_features=log2, max_depth=600:\t0.800 (+/-0.028) *\n",
        "bootstrap=True, n_estimators=10, min_samples_split=20, criterion=gini, max_features=None, max_depth=600:\t0.800 (+/-0.025) *\n",
        "bootstrap=True, n_estimators=100, min_samples_split=5, criterion=gini, max_features=log2, max_depth=None:\t0.800 (+/-0.030) *\n",
        "bootstrap=True, n_estimators=10, min_samples_split=10, criterion=gini, max_features=None, max_depth=None:\t0.800 (+/-0.021) *\n",
        "bootstrap=True, n_estimators=10, min_samples_split=10, criterion=entropy, max_features=sqrt, max_depth=10:\t0.800 (+/-0.036) *\n",
        "bootstrap=True, n_estimators=100, min_samples_split=2, criterion=entropy, max_features=log2, max_depth=200:\t0.800 (+/-0.009)\n",
        "bootstrap=True, n_estimators=10, min_samples_split=5, criterion=entropy, max_features=None, max_depth=200:\t0.800 (+/-0.023) *\n",
        "bootstrap=True, n_estimators=10, min_samples_split=2, criterion=entropy, max_features=log2, max_depth=400:\t0.800 (+/-0.026) *\n",
        "bootstrap=True, n_estimators=10, min_samples_split=50, criterion=entropy, max_features=None, max_depth=400:\t0.800 (+/-0.034) *\n",
        "bootstrap=True, n_estimators=100, min_samples_split=50, criterion=entropy, max_features=None, max_depth=400:\t0.800 (+/-0.019)\n",
        "bootstrap=True, n_estimators=100, min_samples_split=10, criterion=entropy, max_features=log2, max_depth=600:\t0.800 (+/-0.028) *\n",
        "bootstrap=True, n_estimators=50, min_samples_split=5, criterion=entropy, max_features=None, max_depth=600:\t0.800 (+/-0.017)\n",
        "bootstrap=True, n_estimators=10, min_samples_split=50, criterion=entropy, max_features=sqrt, max_depth=None:\t0.800 (+/-0.018)\n",
        "bootstrap=True, n_estimators=10, min_samples_split=50, criterion=entropy, max_features=log2, max_depth=None:\t0.800 (+/-0.026) *\n",
        "bootstrap=True, n_estimators=50, min_samples_split=50, criterion=entropy, max_features=log2, max_depth=None:\t0.800 (+/-0.026) *\n",
        "bootstrap=True, n_estimators=50, min_samples_split=5, criterion=gini, max_features=sqrt, max_depth=10:\t0.796 (+/-0.019)\n",
        "bootstrap=True, n_estimators=10, min_samples_split=10, criterion=gini, max_features=log2, max_depth=10:\t0.796 (+/-0.020)\n",
        "bootstrap=True, n_estimators=10, min_samples_split=20, criterion=gini, max_features=log2, max_depth=10:\t0.796 (+/-0.021)\n",
        "bootstrap=True, n_estimators=100, min_samples_split=20, criterion=gini, max_features=log2, max_depth=10:\t0.796 (+/-0.026) *\n",
        "bootstrap=True, n_estimators=50, min_samples_split=10, criterion=gini, max_features=None, max_depth=10:\t0.796 (+/-0.026) *\n",
        "bootstrap=True, n_estimators=50, min_samples_split=2, criterion=gini, max_features=None, max_depth=200:\t0.796 (+/-0.026) *\n",
        "bootstrap=True, n_estimators=100, min_samples_split=20, criterion=gini, max_features=sqrt, max_depth=400:\t0.796 (+/-0.020)\n",
        "bootstrap=True, n_estimators=100, min_samples_split=50, criterion=gini, max_features=log2, max_depth=600:\t0.796 (+/-0.026) *\n",
        "bootstrap=True, n_estimators=10, min_samples_split=2, criterion=gini, max_features=None, max_depth=600:\t0.796 (+/-0.026) *\n",
        "bootstrap=True, n_estimators=50, min_samples_split=5, criterion=gini, max_features=sqrt, max_depth=None:\t0.796 (+/-0.035) *\n",
        "bootstrap=True, n_estimators=10, min_samples_split=50, criterion=gini, max_features=sqrt, max_depth=None:\t0.796 (+/-0.017)\n",
        "bootstrap=True, n_estimators=10, min_samples_split=2, criterion=gini, max_features=log2, max_depth=None:\t0.796 (+/-0.015)\n",
        "bootstrap=True, n_estimators=10, min_samples_split=50, criterion=gini, max_features=None, max_depth=None:\t0.796 (+/-0.017)\n",
        "bootstrap=True, n_estimators=10, min_samples_split=2, criterion=entropy, max_features=log2, max_depth=10:\t0.796 (+/-0.027) *\n",
        "bootstrap=True, n_estimators=10, min_samples_split=50, criterion=entropy, max_features=log2, max_depth=10:\t0.796 (+/-0.017)\n",
        "bootstrap=True, n_estimators=100, min_samples_split=20, criterion=entropy, max_features=sqrt, max_depth=200:\t0.796 (+/-0.021)\n",
        "bootstrap=True, n_estimators=10, min_samples_split=20, criterion=entropy, max_features=log2, max_depth=200:\t0.796 (+/-0.021)\n",
        "bootstrap=True, n_estimators=10, min_samples_split=50, criterion=entropy, max_features=sqrt, max_depth=400:\t0.796 (+/-0.026) *\n",
        "bootstrap=True, n_estimators=100, min_samples_split=20, criterion=entropy, max_features=log2, max_depth=600:\t0.796 (+/-0.030) *\n",
        "bootstrap=True, n_estimators=50, min_samples_split=50, criterion=entropy, max_features=log2, max_depth=600:\t0.796 (+/-0.026) *\n",
        "bootstrap=True, n_estimators=10, min_samples_split=2, criterion=entropy, max_features=log2, max_depth=None:\t0.796 (+/-0.033) *\n",
        "bootstrap=True, n_estimators=10, min_samples_split=10, criterion=entropy, max_features=log2, max_depth=None:\t0.796 (+/-0.021)\n",
        "bootstrap=True, n_estimators=100, min_samples_split=10, criterion=entropy, max_features=None, max_depth=None:\t0.796 (+/-0.031) *\n",
        "bootstrap=True, n_estimators=50, min_samples_split=50, criterion=gini, max_features=log2, max_depth=10:\t0.792 (+/-0.020)\n",
        "bootstrap=True, n_estimators=50, min_samples_split=10, criterion=gini, max_features=sqrt, max_depth=200:\t0.792 (+/-0.046) *\n",
        "bootstrap=True, n_estimators=50, min_samples_split=5, criterion=gini, max_features=log2, max_depth=200:\t0.792 (+/-0.029) *\n",
        "bootstrap=True, n_estimators=100, min_samples_split=10, criterion=gini, max_features=log2, max_depth=200:\t0.792 (+/-0.022)\n",
        "bootstrap=True, n_estimators=100, min_samples_split=2, criterion=gini, max_features=None, max_depth=200:\t0.792 (+/-0.031) *\n",
        "bootstrap=True, n_estimators=10, min_samples_split=50, criterion=gini, max_features=sqrt, max_depth=400:\t0.792 (+/-0.014)\n",
        "bootstrap=True, n_estimators=10, min_samples_split=2, criterion=gini, max_features=None, max_depth=400:\t0.792 (+/-0.027) *\n",
        "bootstrap=True, n_estimators=100, min_samples_split=20, criterion=gini, max_features=None, max_depth=400:\t0.792 (+/-0.028) *\n",
        "bootstrap=True, n_estimators=10, min_samples_split=50, criterion=gini, max_features=None, max_depth=400:\t0.792 (+/-0.017)\n",
        "bootstrap=True, n_estimators=10, min_samples_split=10, criterion=gini, max_features=log2, max_depth=600:\t0.792 (+/-0.019)\n",
        "bootstrap=True, n_estimators=50, min_samples_split=2, criterion=gini, max_features=sqrt, max_depth=None:\t0.792 (+/-0.025) *\n",
        "bootstrap=True, n_estimators=100, min_samples_split=10, criterion=gini, max_features=log2, max_depth=None:\t0.792 (+/-0.022)\n",
        "bootstrap=True, n_estimators=50, min_samples_split=50, criterion=entropy, max_features=log2, max_depth=10:\t0.792 (+/-0.024) *\n",
        "bootstrap=True, n_estimators=10, min_samples_split=20, criterion=entropy, max_features=None, max_depth=10:\t0.792 (+/-0.027) *\n",
        "bootstrap=True, n_estimators=100, min_samples_split=50, criterion=entropy, max_features=None, max_depth=10:\t0.792 (+/-0.022)\n",
        "bootstrap=True, n_estimators=50, min_samples_split=2, criterion=entropy, max_features=sqrt, max_depth=200:\t0.792 (+/-0.014)\n",
        "bootstrap=True, n_estimators=10, min_samples_split=10, criterion=entropy, max_features=sqrt, max_depth=200:\t0.792 (+/-0.016)\n",
        "bootstrap=True, n_estimators=100, min_samples_split=20, criterion=entropy, max_features=log2, max_depth=400:\t0.792 (+/-0.005)\n",
        "bootstrap=True, n_estimators=10, min_samples_split=5, criterion=entropy, max_features=sqrt, max_depth=600:\t0.792 (+/-0.030) *\n",
        "bootstrap=True, n_estimators=50, min_samples_split=50, criterion=entropy, max_features=sqrt, max_depth=600:\t0.792 (+/-0.015)\n",
        "bootstrap=True, n_estimators=100, min_samples_split=50, criterion=entropy, max_features=sqrt, max_depth=600:\t0.792 (+/-0.035) *\n",
        "bootstrap=True, n_estimators=50, min_samples_split=50, criterion=entropy, max_features=None, max_depth=None:\t0.792 (+/-0.024) *\n",
        "bootstrap=True, n_estimators=50, min_samples_split=50, criterion=gini, max_features=sqrt, max_depth=10:\t0.788 (+/-0.023)\n",
        "bootstrap=True, n_estimators=50, min_samples_split=5, criterion=gini, max_features=sqrt, max_depth=200:\t0.788 (+/-0.017)\n",
        "bootstrap=True, n_estimators=100, min_samples_split=10, criterion=gini, max_features=None, max_depth=200:\t0.788 (+/-0.024)\n",
        "bootstrap=True, n_estimators=10, min_samples_split=20, criterion=gini, max_features=sqrt, max_depth=600:\t0.788 (+/-0.021)\n",
        "bootstrap=True, n_estimators=100, min_samples_split=20, criterion=gini, max_features=sqrt, max_depth=600:\t0.788 (+/-0.027) *"
       ]
      },
      {
       "output_type": "stream",
       "stream": "stdout",
       "text": [
        "\n",
        "bootstrap=True, n_estimators=10, min_samples_split=50, criterion=gini, max_features=log2, max_depth=600:\t0.788 (+/-0.036) *\n",
        "bootstrap=True, n_estimators=50, min_samples_split=50, criterion=gini, max_features=sqrt, max_depth=None:\t0.788 (+/-0.014)\n",
        "bootstrap=True, n_estimators=100, min_samples_split=5, criterion=entropy, max_features=None, max_depth=10:\t0.788 (+/-0.022)\n",
        "bootstrap=True, n_estimators=100, min_samples_split=2, criterion=entropy, max_features=None, max_depth=200:\t0.788 (+/-0.025)\n",
        "bootstrap=True, n_estimators=10, min_samples_split=50, criterion=entropy, max_features=None, max_depth=200:\t0.788 (+/-0.030) *\n",
        "bootstrap=True, n_estimators=50, min_samples_split=50, criterion=entropy, max_features=None, max_depth=200:\t0.788 (+/-0.033) *\n",
        "bootstrap=True, n_estimators=50, min_samples_split=50, criterion=entropy, max_features=sqrt, max_depth=400:\t0.788 (+/-0.030) *\n",
        "bootstrap=True, n_estimators=50, min_samples_split=20, criterion=entropy, max_features=log2, max_depth=400:\t0.788 (+/-0.032) *\n",
        "bootstrap=True, n_estimators=10, min_samples_split=2, criterion=entropy, max_features=None, max_depth=400:\t0.788 (+/-0.017)\n",
        "bootstrap=True, n_estimators=10, min_samples_split=5, criterion=entropy, max_features=log2, max_depth=600:\t0.788 (+/-0.019)\n",
        "bootstrap=True, n_estimators=100, min_samples_split=50, criterion=entropy, max_features=log2, max_depth=600:\t0.788 (+/-0.027) *\n",
        "bootstrap=True, n_estimators=100, min_samples_split=20, criterion=entropy, max_features=None, max_depth=None:\t0.788 (+/-0.021)\n",
        "bootstrap=True, n_estimators=50, min_samples_split=20, criterion=gini, max_features=sqrt, max_depth=10:\t0.784 (+/-0.026)\n",
        "bootstrap=True, n_estimators=50, min_samples_split=2, criterion=gini, max_features=None, max_depth=10:\t0.784 (+/-0.013)\n",
        "bootstrap=True, n_estimators=100, min_samples_split=2, criterion=gini, max_features=sqrt, max_depth=600:\t0.784 (+/-0.021)\n",
        "bootstrap=True, n_estimators=50, min_samples_split=5, criterion=gini, max_features=None, max_depth=600:\t0.784 (+/-0.023)\n",
        "bootstrap=True, n_estimators=50, min_samples_split=20, criterion=gini, max_features=None, max_depth=600:\t0.784 (+/-0.028) *\n",
        "bootstrap=True, n_estimators=100, min_samples_split=50, criterion=gini, max_features=log2, max_depth=None:\t0.784 (+/-0.032) *\n",
        "bootstrap=True, n_estimators=100, min_samples_split=2, criterion=gini, max_features=None, max_depth=None:\t0.784 (+/-0.019)\n",
        "bootstrap=True, n_estimators=100, min_samples_split=20, criterion=entropy, max_features=sqrt, max_depth=10:\t0.784 (+/-0.026)\n",
        "bootstrap=True, n_estimators=50, min_samples_split=2, criterion=entropy, max_features=log2, max_depth=200:\t0.784 (+/-0.024)\n",
        "bootstrap=True, n_estimators=100, min_samples_split=50, criterion=entropy, max_features=sqrt, max_depth=400:\t0.784 (+/-0.037) *\n",
        "bootstrap=True, n_estimators=100, min_samples_split=2, criterion=entropy, max_features=None, max_depth=400:\t0.784 (+/-0.018)\n",
        "bootstrap=True, n_estimators=10, min_samples_split=2, criterion=entropy, max_features=sqrt, max_depth=600:\t0.784 (+/-0.027)\n",
        "bootstrap=True, n_estimators=10, min_samples_split=5, criterion=entropy, max_features=None, max_depth=600:\t0.784 (+/-0.012)\n",
        "bootstrap=True, n_estimators=100, min_samples_split=20, criterion=entropy, max_features=None, max_depth=600:\t0.784 (+/-0.012)\n",
        "bootstrap=True, n_estimators=50, min_samples_split=10, criterion=entropy, max_features=sqrt, max_depth=None:\t0.784 (+/-0.039) *\n",
        "bootstrap=True, n_estimators=100, min_samples_split=10, criterion=entropy, max_features=sqrt, max_depth=None:\t0.784 (+/-0.025)\n",
        "bootstrap=True, n_estimators=100, min_samples_split=50, criterion=entropy, max_features=sqrt, max_depth=None:\t0.784 (+/-0.025)\n",
        "bootstrap=True, n_estimators=10, min_samples_split=50, criterion=gini, max_features=None, max_depth=10:\t0.780 (+/-0.014)\n",
        "bootstrap=True, n_estimators=100, min_samples_split=50, criterion=gini, max_features=log2, max_depth=200:\t0.780 (+/-0.023)\n",
        "bootstrap=True, n_estimators=50, min_samples_split=5, criterion=gini, max_features=None, max_depth=200:\t0.780 (+/-0.021)\n",
        "bootstrap=True, n_estimators=10, min_samples_split=10, criterion=gini, max_features=None, max_depth=600:\t0.780 (+/-0.020)\n",
        "bootstrap=True, n_estimators=100, min_samples_split=50, criterion=gini, max_features=None, max_depth=600:\t0.780 (+/-0.020)\n",
        "bootstrap=True, n_estimators=50, min_samples_split=50, criterion=entropy, max_features=sqrt, max_depth=10:\t0.780 (+/-0.020)\n",
        "bootstrap=True, n_estimators=100, min_samples_split=50, criterion=entropy, max_features=sqrt, max_depth=10:\t0.780 (+/-0.019)\n",
        "bootstrap=True, n_estimators=100, min_samples_split=10, criterion=entropy, max_features=log2, max_depth=200:\t0.780 (+/-0.025)\n",
        "bootstrap=True, n_estimators=50, min_samples_split=20, criterion=entropy, max_features=None, max_depth=400:\t0.780 (+/-0.020)\n",
        "bootstrap=True, n_estimators=50, min_samples_split=2, criterion=entropy, max_features=sqrt, max_depth=600:\t0.780 (+/-0.021)\n",
        "bootstrap=True, n_estimators=50, min_samples_split=50, criterion=entropy, max_features=sqrt, max_depth=None:\t0.780 (+/-0.033) *\n",
        "bootstrap=True, n_estimators=50, min_samples_split=10, criterion=entropy, max_features=log2, max_depth=None:\t0.780 (+/-0.030) *\n",
        "bootstrap=True, n_estimators=10, min_samples_split=50, criterion=gini, max_features=sqrt, max_depth=10:\t0.776 (+/-0.021)\n",
        "bootstrap=True, n_estimators=50, min_samples_split=5, criterion=gini, max_features=log2, max_depth=10:\t0.776 (+/-0.037) *\n",
        "bootstrap=True, n_estimators=100, min_samples_split=50, criterion=gini, max_features=sqrt, max_depth=200:\t0.776 (+/-0.034) *\n",
        "bootstrap=True, n_estimators=10, min_samples_split=20, criterion=gini, max_features=sqrt, max_depth=400:\t0.776 (+/-0.012)\n",
        "bootstrap=True, n_estimators=50, min_samples_split=2, criterion=gini, max_features=sqrt, max_depth=600:\t0.776 (+/-0.020)\n",
        "bootstrap=True, n_estimators=10, min_samples_split=20, criterion=gini, max_features=log2, max_depth=None:\t0.776 (+/-0.030)\n",
        "bootstrap=True, n_estimators=50, min_samples_split=10, criterion=entropy, max_features=sqrt, max_depth=200:\t0.776 (+/-0.035) *\n",
        "bootstrap=True, n_estimators=10, min_samples_split=50, criterion=entropy, max_features=sqrt, max_depth=200:\t0.776 (+/-0.031)\n",
        "bootstrap=True, n_estimators=10, min_samples_split=50, criterion=entropy, max_features=log2, max_depth=200:\t0.776 (+/-0.020)\n",
        "bootstrap=True, n_estimators=10, min_samples_split=10, criterion=entropy, max_features=None, max_depth=200:\t0.776 (+/-0.042) *\n",
        "bootstrap=True, n_estimators=50, min_samples_split=20, criterion=entropy, max_features=None, max_depth=200:\t0.776 (+/-0.032) *\n",
        "bootstrap=True, n_estimators=10, min_samples_split=5, criterion=entropy, max_features=None, max_depth=400:\t0.776 (+/-0.036) *\n",
        "bootstrap=True, n_estimators=50, min_samples_split=50, criterion=entropy, max_features=None, max_depth=400:\t0.776 (+/-0.034) *\n",
        "bootstrap=True, n_estimators=10, min_samples_split=50, criterion=entropy, max_features=None, max_depth=600:\t0.776 (+/-0.022)\n",
        "bootstrap=True, n_estimators=100, min_samples_split=50, criterion=entropy, max_features=None, max_depth=600:\t0.776 (+/-0.023)\n",
        "bootstrap=True, n_estimators=50, min_samples_split=50, criterion=gini, max_features=None, max_depth=10:\t0.772 (+/-0.019)\n",
        "bootstrap=True, n_estimators=50, min_samples_split=50, criterion=gini, max_features=sqrt, max_depth=400:\t0.772 (+/-0.014)\n",
        "bootstrap=True, n_estimators=100, min_samples_split=10, criterion=gini, max_features=None, max_depth=400:\t0.772 (+/-0.029)\n",
        "bootstrap=True, n_estimators=50, min_samples_split=20, criterion=gini, max_features=log2, max_depth=600:\t0.772 (+/-0.016)\n",
        "bootstrap=True, n_estimators=100, min_samples_split=20, criterion=gini, max_features=sqrt, max_depth=None:\t0.772 (+/-0.036) *\n",
        "bootstrap=True, n_estimators=50, min_samples_split=50, criterion=gini, max_features=None, max_depth=None:\t0.772 (+/-0.020)\n",
        "bootstrap=True, n_estimators=10, min_samples_split=2, criterion=entropy, max_features=sqrt, max_depth=10:\t0.772 (+/-0.016)\n",
        "bootstrap=True, n_estimators=50, min_samples_split=10, criterion=entropy, max_features=log2, max_depth=600:\t0.772 (+/-0.039) *\n",
        "bootstrap=True, n_estimators=100, min_samples_split=50, criterion=gini, max_features=sqrt, max_depth=10:\t0.768 (+/-0.024)\n",
        "bootstrap=True, n_estimators=50, min_samples_split=20, criterion=gini, max_features=log2, max_depth=200:\t0.768 (+/-0.026)\n",
        "bootstrap=True, n_estimators=100, min_samples_split=50, criterion=gini, max_features=sqrt, max_depth=400:\t0.768 (+/-0.027)\n",
        "bootstrap=True, n_estimators=10, min_samples_split=5, criterion=gini, max_features=log2, max_depth=600:\t0.768 (+/-0.017)\n",
        "bootstrap=True, n_estimators=50, min_samples_split=50, criterion=entropy, max_features=log2, max_depth=400:\t0.768 (+/-0.030)\n",
        "bootstrap=True, n_estimators=100, min_samples_split=20, criterion=gini, max_features=None, max_depth=200:\t0.764 (+/-0.018)\n",
        "bootstrap=True, n_estimators=50, min_samples_split=20, criterion=gini, max_features=sqrt, max_depth=400:\t0.764 (+/-0.028)\n",
        "bootstrap=True, n_estimators=10, min_samples_split=50, criterion=entropy, max_features=log2, max_depth=600:\t0.764 (+/-0.021)\n",
        "bootstrap=True, n_estimators=10, min_samples_split=20, criterion=entropy, max_features=None, max_depth=600:\t0.764 (+/-0.040) *\n",
        "bootstrap=True, n_estimators=50, min_samples_split=20, criterion=entropy, max_features=sqrt, max_depth=None:\t0.764 (+/-0.017)\n",
        "bootstrap=True, n_estimators=10, min_samples_split=50, criterion=gini, max_features=sqrt, max_depth=200:\t0.760 (+/-0.034)\n",
        "bootstrap=True, n_estimators=100, min_samples_split=50, criterion=gini, max_features=None, max_depth=400:\t0.760 (+/-0.017)\n",
        "bootstrap=True, n_estimators=100, min_samples_split=50, criterion=entropy, max_features=log2, max_depth=10:\t0.760 (+/-0.000)\n",
        "bootstrap=True, n_estimators=100, min_samples_split=2, criterion=entropy, max_features=log2, max_depth=600:\t0.760 (+/-0.006)\n",
        "bootstrap=True, n_estimators=10, min_samples_split=5, criterion=gini, max_features=None, max_depth=200:\t0.756 (+/-0.033)\n",
        "bootstrap=True, n_estimators=10, min_samples_split=20, criterion=gini, max_features=None, max_depth=200:\t0.756 (+/-0.023)\n",
        "bootstrap=True, n_estimators=50, min_samples_split=10, criterion=entropy, max_features=None, max_depth=None:\t0.756 (+/-0.012)\n",
        "bootstrap=True, n_estimators=10, min_samples_split=50, criterion=gini, max_features=None, max_depth=600:\t0.752 (+/-0.042)\n",
        "bootstrap=True, n_estimators=100, min_samples_split=50, criterion=entropy, max_features=log2, max_depth=400:\t0.752 (+/-0.024)\n",
        "bootstrap=True, n_estimators=100, min_samples_split=50, criterion=gini, max_features=sqrt, max_depth=None:\t0.748 (+/-0.029)\n",
        "bootstrap=True, n_estimators=100, min_samples_split=2, criterion=entropy, max_features=sqrt, max_depth=200:\t0.744 (+/-0.012)\n",
        "bootstrap=True, n_estimators=50, min_samples_split=50, criterion=entropy, max_features=log2, max_depth=200:\t0.736 (+/-0.021)\n",
        "bootstrap=True, n_estimators=10, min_samples_split=10, criterion=gini, max_features=log2, max_depth=400:\t0.732 (+/-0.039)\n"
       ]
      }
     ],
     "prompt_number": 377
    },
    {
     "cell_type": "code",
     "collapsed": false,
     "input": [
      "# reg_trees = ExtraTreesClassifier(n_estimators=50, max_depth=20, min_samples_split=10, random_state=1)\n",
      "# reg_trees = ExtraTreesClassifier(n_estimators=50, max_depth=10, min_samples_split=10, random_state=1, criterion='gini')\n",
      "#reg_trees = ExtraTreesClassifier(n_estimators=30, max_depth=5, n_jobs=1, min_samples_split=20, random_state=1, criterion='gini')\n",
      "p = gs_trees.best_params_\n",
      "if 'max_features' in p:\n",
      "    del p['max_features']\n",
      "    \n",
      "#del p['max_features']\n",
      "reg_trees = ExtraTreesClassifier(random_state=1, **p)\n",
      "reg_trees.fit(X_train, y_train)\n",
      "\n",
      "print(\"Train score: %0.3f\" % reg_trees.score(X_train, y_train))\n",
      "print(\"Test score: %0.3f\" % reg_trees.score(X_test, y_test))"
     ],
     "language": "python",
     "metadata": {},
     "outputs": [
      {
       "output_type": "stream",
       "stream": "stdout",
       "text": [
        "Train score: 0.879\n",
        "Test score: 0.762\n"
       ]
      }
     ],
     "prompt_number": 380
    },
    {
     "cell_type": "code",
     "collapsed": false,
     "input": [
      "from sklearn import feature_selection\n",
      "\n",
      "\n",
      "fs = feature_selection.SelectPercentile(feature_selection.chi2, percentile=10)\n",
      "X_train_fs = fs.fit_transform(X_train, y_train)\n",
      "\n",
      "reg_trees.fit(X_train_fs, y_train)\n",
      "X_test_fs = fs.transform(X_test)\n",
      "y_pred_fs = reg_trees.predict(X_test_fs)\n",
      "\n",
      "\n",
      "print \"Accuracy:{0:.3f}\".format(metrics.accuracy_score(y_test, y_pred_fs)),\"\\n\""
     ],
     "language": "python",
     "metadata": {},
     "outputs": [
      {
       "output_type": "stream",
       "stream": "stdout",
       "text": [
        "Accuracy:0.785 \n",
        "\n"
       ]
      }
     ],
     "prompt_number": 381
    },
    {
     "cell_type": "markdown",
     "metadata": {},
     "source": [
      "Decision tree\n",
      "--------------"
     ]
    },
    {
     "cell_type": "code",
     "collapsed": false,
     "input": [
      "from sklearn.tree import DecisionTreeClassifier\n",
      "from sklearn import metrics\n",
      "\n",
      "tree_params = {\n",
      "    'criterion': ['gini', 'entropy'],\n",
      "    'min_samples_split': [2],\n",
      "    'min_samples_leaf': [1],\n",
      "    'max_depth': [3, 4, 5],\n",
      "    #'min_density': [x/10.0 for x in xrange(1, 6, 1)], #deprecated\n",
      "    'max_features': ['log2', 'sqrt', None]\n",
      "}\n",
      "\n",
      "n_subsamples = 500\n",
      "\n",
      "dts = DecisionTreeClassifier( random_state=1)\n",
      "\n",
      "cv = ShuffleSplit(n_subsamples, n_iter=5, test_size=0.05, train_size=0.95)\n",
      "dt_trees = GridSearchCV(dts, tree_params, n_jobs=1, cv=cv)\n",
      "#%time \n",
      "dt_trees.fit(X_train, y_train)\n",
      "display_grid_scores(dt_trees.grid_scores_)"
     ],
     "language": "python",
     "metadata": {},
     "outputs": [
      {
       "output_type": "stream",
       "stream": "stdout",
       "text": [
        "max_features=None, min_samples_split=2, criterion=gini, max_depth=3, min_samples_leaf=1:\t0.888 (+/-0.032) *\n",
        "max_features=None, min_samples_split=2, criterion=gini, max_depth=4, min_samples_leaf=1:\t0.880 (+/-0.025) *\n",
        "max_features=log2, min_samples_split=2, criterion=gini, max_depth=4, min_samples_leaf=1:\t0.848 (+/-0.015) *\n",
        "max_features=None, min_samples_split=2, criterion=entropy, max_depth=3, min_samples_leaf=1:\t0.840 (+/-0.025) *\n",
        "max_features=sqrt, min_samples_split=2, criterion=entropy, max_depth=4, min_samples_leaf=1:\t0.840 (+/-0.028) *\n",
        "max_features=sqrt, min_samples_split=2, criterion=gini, max_depth=5, min_samples_leaf=1:\t0.816 (+/-0.045) *\n",
        "max_features=None, min_samples_split=2, criterion=entropy, max_depth=4, min_samples_leaf=1:\t0.816 (+/-0.039) *\n",
        "max_features=log2, min_samples_split=2, criterion=entropy, max_depth=3, min_samples_leaf=1:\t0.808 (+/-0.053) *\n",
        "max_features=None, min_samples_split=2, criterion=entropy, max_depth=5, min_samples_leaf=1:\t0.808 (+/-0.045) *\n",
        "max_features=None, min_samples_split=2, criterion=gini, max_depth=5, min_samples_leaf=1:\t0.800 (+/-0.018) *\n",
        "max_features=log2, min_samples_split=2, criterion=entropy, max_depth=4, min_samples_leaf=1:\t0.800 (+/-0.028) *\n",
        "max_features=log2, min_samples_split=2, criterion=gini, max_depth=3, min_samples_leaf=1:\t0.776 (+/-0.052) *\n",
        "max_features=log2, min_samples_split=2, criterion=entropy, max_depth=5, min_samples_leaf=1:\t0.768 (+/-0.037) *\n",
        "max_features=sqrt, min_samples_split=2, criterion=gini, max_depth=4, min_samples_leaf=1:\t0.760 (+/-0.018)\n",
        "max_features=sqrt, min_samples_split=2, criterion=entropy, max_depth=5, min_samples_leaf=1:\t0.760 (+/-0.046) *\n",
        "max_features=log2, min_samples_split=2, criterion=gini, max_depth=5, min_samples_leaf=1:\t0.736 (+/-0.066) *\n",
        "max_features=sqrt, min_samples_split=2, criterion=gini, max_depth=3, min_samples_leaf=1:\t0.720 (+/-0.052) *\n",
        "max_features=sqrt, min_samples_split=2, criterion=entropy, max_depth=3, min_samples_leaf=1:\t0.672 (+/-0.043)\n"
       ]
      }
     ],
     "prompt_number": 433
    },
    {
     "cell_type": "markdown",
     "metadata": {},
     "source": [
      "Best parameters"
     ]
    },
    {
     "cell_type": "code",
     "collapsed": false,
     "input": [
      "from sklearn import tree\n",
      "from sklearn import metrics\n",
      "\n",
      "p = dt_trees.best_params_\n",
      "del p['max_features']\n",
      "\n",
      "dt = DecisionTreeClassifier(**p)\n",
      "dt = dt.fit(X_train, y_train)\n",
      "y_pred = dt.predict(X_test)\n",
      "\n",
      "print \"Accuracy:{0:.3f}\".format(metrics.accuracy_score(y_test, y_pred)), \"\\n\""
     ],
     "language": "python",
     "metadata": {},
     "outputs": [
      {
       "output_type": "stream",
       "stream": "stdout",
       "text": [
        "Accuracy:0.807 \n",
        "\n"
       ]
      }
     ],
     "prompt_number": 434
    },
    {
     "cell_type": "markdown",
     "metadata": {},
     "source": [
      "Optimal 10th percentile features"
     ]
    },
    {
     "cell_type": "code",
     "collapsed": false,
     "input": [
      "from sklearn import cross_validation\n",
      "\n",
      "\n",
      "percentiles = range(1, 100, 2)\n",
      "results = []\n",
      "\n",
      "for i in percentiles:\n",
      "    fs = feature_selection.SelectPercentile(feature_selection.chi2, percentile=i)\n",
      "    X_train_fs = fs.fit_transform(X_train, y_train)\n",
      "    \n",
      "    scores = cross_validation.cross_val_score(dt, X_train_fs, y_train, cv=5)\n",
      "    \n",
      "    results = np.append(results, scores.mean())\n",
      "\n",
      "# this occasionally results in several equal values\n",
      "optimal_percentil = np.where(results == results.max())[0]   \n",
      "\n",
      "# so loop over them\n",
      "for p in optimal_percentil:\n",
      "    print \"Optimal number of features:{0}\".format(percentiles[p]), \"\\n\"\n",
      "    \n",
      "    \n",
      "import matplotlib.pyplot as plt\n",
      "import pylab as pl\n",
      "\n",
      "pl.figure()\n",
      "pl.xlabel(\"Number of features selected\")\n",
      "pl.ylabel(\"Cross-validation accuracy)\")\n",
      "pl.plot(percentiles, results)"
     ],
     "language": "python",
     "metadata": {},
     "outputs": [
      {
       "output_type": "stream",
       "stream": "stdout",
       "text": [
        "Optimal number of features:79 \n",
        "\n",
        "Optimal number of features:81 \n",
        "\n",
        "Optimal number of features:93 \n",
        "\n",
        "Optimal number of features:99 \n",
        "\n"
       ]
      },
      {
       "metadata": {},
       "output_type": "pyout",
       "prompt_number": 424,
       "text": [
        "[<matplotlib.lines.Line2D at 0x15e359e8>]"
       ]
      },
      {
       "metadata": {},
       "output_type": "display_data",
       "png": "[encoded data removed]",
       "text": [
        "<matplotlib.figure.Figure at 0x20ac2128>"
       ]
      }
     ],
     "prompt_number": 424
    },
    {
     "cell_type": "code",
     "collapsed": false,
     "input": [
      "# pick one of the optimal percentiles, last, should (?) have the same accuracy as the other ones\n",
      "fs = feature_selection.SelectPercentile(feature_selection.chi2, percentile=percentiles[optimal_percentil[-1]])\n",
      "\n",
      "X_train_fs = fs.fit_transform(X_train, y_train)\n",
      "dt.fit(X_train_fs, y_train)\n",
      "\n",
      "X_test_fs = fs.transform(X_test)\n",
      "y_pred_fs = dt.predict(X_test_fs)\n",
      "\n",
      "print \"Accuracy:{0:.3f}\".format(metrics.accuracy_score(y_test, y_pred_fs)), \"\\n\""
     ],
     "language": "python",
     "metadata": {},
     "outputs": [
      {
       "output_type": "stream",
       "stream": "stdout",
       "text": [
        "Accuracy:0.807 \n",
        "\n"
       ]
      }
     ],
     "prompt_number": 425
    },
    {
     "cell_type": "code",
     "collapsed": false,
     "input": [
      "p = dt_trees.best_params_\n",
      "if 'max_features' in p:\n",
      "    del p['max_features']\n",
      "\n",
      "p['criterion'] = 'entropy'\n",
      "dt = DecisionTreeClassifier(**p)\n",
      "\n",
      "scores = cross_validation.cross_val_score(dt, X_train_fs, y_train, cv=5)\n",
      "\n",
      "print \"Entropy criterion accuracy on cv: {0:.3f}\".format(scores.mean())\n",
      "\n",
      "p['criterion'] = 'gini'\n",
      "dt = dt = DecisionTreeClassifier(**p)\n",
      "scores = cross_validation.cross_val_score(dt, X_train_fs, y_train, cv=5)\n",
      "\n",
      "print \"Gini criterion accuracy on cv: {0:.3f}\".format(scores.mean())"
     ],
     "language": "python",
     "metadata": {},
     "outputs": [
      {
       "output_type": "stream",
       "stream": "stdout",
       "text": [
        "Entropy criterion accuracy on cv: 0.837\n",
        "Gini criterion accuracy on cv: 0.835\n"
       ]
      }
     ],
     "prompt_number": 443
    },
    {
     "cell_type": "code",
     "collapsed": false,
     "input": [
      "p = gs_trees.best_params_\n",
      "if 'max_features' in p:\n",
      "    del p['max_features']\n",
      "    \n",
      "etc = ExtraTreesClassifier(n_estimators=50, max_depth=10, min_samples_split=10, random_state=1, criterion='entropy')\n",
      "scores = cross_validation.cross_val_score(etc, X_train_fs, y_train, cv=5)\n",
      "\n",
      "print \"Entropy criterion accuracy on cv: {0:.3f}\".format(scores.mean())\n",
      "\n",
      "\n",
      "etc = ExtraTreesClassifier(n_estimators=50, max_depth=10, min_samples_split=10, random_state=1, criterion='gini')\n",
      "scores = cross_validation.cross_val_score(etc, X_train_fs, y_train, cv=5)\n",
      "\n",
      "print \"Gini criterion accuracy on cv: {0:.3f}\".format(scores.mean())"
     ],
     "language": "python",
     "metadata": {},
     "outputs": [
      {
       "output_type": "stream",
       "stream": "stdout",
       "text": [
        "Entropy criterion accuracy on cv: 0.832\n",
        "Gini criterion accuracy on cv: 0.835"
       ]
      },
      {
       "output_type": "stream",
       "stream": "stdout",
       "text": [
        "\n"
       ]
      }
     ],
     "prompt_number": 445
    },
    {
     "cell_type": "code",
     "collapsed": false,
     "input": [
      "etc.fit(X_train_fs, y_train)\n",
      "X_test_fs = fs.transform(X_test)\n",
      "y_pred_fs = etc.predict(X_test_fs)\n",
      "\n",
      "print \"Accuracy: {0:.3f}\".format(metrics.accuracy_score(y_test, y_pred_fs)),\"\\n\""
     ],
     "language": "python",
     "metadata": {},
     "outputs": [
      {
       "output_type": "stream",
       "stream": "stdout",
       "text": [
        "Accuracy: 0.780 \n",
        "\n"
       ]
      }
     ],
     "prompt_number": 448
    },
    {
     "cell_type": "code",
     "collapsed": false,
     "input": [
      "#from sklearn import datasets\n",
      "from sklearn.cross_validation import train_test_split\n",
      "from sklearn.grid_search import GridSearchCV\n",
      "from sklearn.metrics import classification_report\n",
      "from sklearn.metrics import precision_score\n",
      "from sklearn.metrics import recall_score\n",
      "from sklearn.svm import SVC\n",
      "\n",
      "\n",
      "# Set the parameters by cross-validation\n",
      "tuned_parameters = [\n",
      "                    {'kernel': ['rbf'], \n",
      "                     'gamma': [1e-3, 1e-4],\n",
      "                     'C': [1, 10, 100, 1000]}]\n",
      "#                     {'kernel': ['linear'], \n",
      "#                      'C': [1]}\n",
      "#                     ]\n",
      "\n",
      "scores = [\n",
      "    ('precision', precision_score),\n",
      "    ('recall', recall_score),\n",
      "]\n",
      "\n",
      "for score_name, score_func in scores:\n",
      "    print \"# Tuning hyper-parameters for %s\" % score_name\n",
      "    print\n",
      "\n",
      "    clf = GridSearchCV(SVC(C=1), tuned_parameters, score_func=score_func)\n",
      "    clf.fit(X_train, y_train, cv=5)\n",
      "\n",
      "    print \"Best parameters set found on development set:\"\n",
      "    print\n",
      "    print clf.best_estimator_\n",
      "    print\n",
      "    print \"Grid scores on development set:\"\n",
      "    print\n",
      "    for params, mean_score, scores in clf.grid_scores_:\n",
      "        print \"%0.3f (+/-%0.03f) for %r\" % (\n",
      "            mean_score, scores.std() / 2, params)\n",
      "    print\n",
      "\n",
      "    print \"Detailed classification report:\"\n",
      "    print\n",
      "    print \"The model is trained on the full development set.\"\n",
      "    print \"The scores are computed on the full evaluation set.\"\n",
      "    print\n",
      "    y_true, y_pred = y_test, clf.predict(X_test)\n",
      "    print classification_report(y_true, y_pred)\n",
      "    print"
     ],
     "language": "python",
     "metadata": {},
     "outputs": [
      {
       "output_type": "stream",
       "stream": "stdout",
       "text": [
        "# Tuning hyper-parameters for precision\n",
        "\n",
        "Best parameters set found on development set:"
       ]
      },
      {
       "output_type": "stream",
       "stream": "stderr",
       "text": [
        "C:\\Python27\\lib\\site-packages\\sklearn\\grid_search.py:706: DeprecationWarning: Additional parameters to GridSearchCV are ignored! The params argument will be removed in 0.15.\n",
        "  DeprecationWarning)\n",
        "C:\\Python27\\lib\\site-packages\\sklearn\\grid_search.py:466: DeprecationWarning: Passing function as ``score_func`` is deprecated and will be removed in 0.15. Either use strings or score objects.The relevant new parameter is called ''scoring''.\n",
        "  self.loss_func, self.score_func, self.scoring)\n",
        "C:\\Python27\\lib\\site-packages\\sklearn\\grid_search.py:706: DeprecationWarning: Additional parameters to GridSearchCV are ignored! The params argument will be removed in 0.15.\n",
        "  DeprecationWarning)\n"
       ]
      },
      {
       "output_type": "stream",
       "stream": "stdout",
       "text": [
        "\n",
        "\n",
        "SVC(C=10, cache_size=200, class_weight=None, coef0=0.0, degree=3,\n",
        "  gamma=0.0001, kernel=rbf, max_iter=-1, probability=False,\n",
        "  random_state=None, shrinking=True, tol=0.001, verbose=False)\n",
        "\n",
        "Grid scores on development set:\n",
        "\n",
        "0.682 (+/-0.034) for {'kernel': 'rbf', 'C': 1, 'gamma': 0.001}\n",
        "0.000 (+/-0.000) for {'kernel': 'rbf', 'C': 1, 'gamma': 0.0001}\n",
        "0.797 (+/-0.049) for {'kernel': 'rbf', 'C': 10, 'gamma': 0.001}\n",
        "0.849 (+/-0.036) for {'kernel': 'rbf', 'C': 10, 'gamma': 0.0001}\n",
        "0.836 (+/-0.045) for {'kernel': 'rbf', 'C': 100, 'gamma': 0.001}\n",
        "0.796 (+/-0.050) for {'kernel': 'rbf', 'C': 100, 'gamma': 0.0001}\n",
        "0.835 (+/-0.038) for {'kernel': 'rbf', 'C': 1000, 'gamma': 0.001}\n",
        "0.837 (+/-0.041) for {'kernel': 'rbf', 'C': 1000, 'gamma': 0.0001}\n",
        "\n",
        "Detailed classification report:\n",
        "\n",
        "The model is trained on the full development set.\n",
        "The scores are computed on the full evaluation set.\n",
        "\n",
        "             precision    recall  f1-score   support\n",
        "\n",
        "          0       0.61      0.91      0.73       128\n",
        "          1       0.63      0.20      0.30        95\n",
        "\n",
        "avg / total       0.62      0.61      0.55       223\n",
        "\n",
        "\n",
        "# Tuning hyper-parameters for recall\n",
        "\n",
        "Best parameters set found on development set:"
       ]
      },
      {
       "output_type": "stream",
       "stream": "stdout",
       "text": [
        "\n",
        "\n",
        "SVC(C=100, cache_size=200, class_weight=None, coef0=0.0, degree=3,\n",
        "  gamma=0.0001, kernel=rbf, max_iter=-1, probability=False,\n",
        "  random_state=None, shrinking=True, tol=0.001, verbose=False)\n",
        "\n",
        "Grid scores on development set:\n",
        "\n",
        "0.126 (+/-0.021) for {'kernel': 'rbf', 'C': 1, 'gamma': 0.001}\n",
        "0.000 (+/-0.000) for {'kernel': 'rbf', 'C': 1, 'gamma': 0.0001}\n",
        "0.660 (+/-0.067) for {'kernel': 'rbf', 'C': 10, 'gamma': 0.001}\n",
        "0.113 (+/-0.013) for {'kernel': 'rbf', 'C': 10, 'gamma': 0.0001}\n",
        "0.635 (+/-0.055) for {'kernel': 'rbf', 'C': 100, 'gamma': 0.001}\n",
        "0.676 (+/-0.052) for {'kernel': 'rbf', 'C': 100, 'gamma': 0.0001}\n",
        "0.643 (+/-0.058) for {'kernel': 'rbf', 'C': 1000, 'gamma': 0.001}\n",
        "0.619 (+/-0.050) for {'kernel': 'rbf', 'C': 1000, 'gamma': 0.0001}\n",
        "\n",
        "Detailed classification report:\n",
        "\n",
        "The model is trained on the full development set.\n",
        "The scores are computed on the full evaluation set.\n",
        "\n",
        "             precision    recall  f1-score   support\n",
        "\n",
        "          0       0.78      0.89      0.83       128\n",
        "          1       0.82      0.66      0.73        95\n",
        "\n",
        "avg / total       0.80      0.79      0.79       223\n",
        "\n",
        "\n"
       ]
      },
      {
       "output_type": "stream",
       "stream": "stderr",
       "text": [
        "C:\\Python27\\lib\\site-packages\\sklearn\\grid_search.py:466: DeprecationWarning: Passing function as ``score_func`` is deprecated and will be removed in 0.15. Either use strings or score objects.The relevant new parameter is called ''scoring''.\n",
        "  self.loss_func, self.score_func, self.scoring)\n"
       ]
      }
     ],
     "prompt_number": 449
    },
    {
     "cell_type": "markdown",
     "metadata": {},
     "source": [
      "GBM\n",
      "----"
     ]
    },
    {
     "cell_type": "code",
     "collapsed": false,
     "input": [
      "from sklearn.ensemble import GradientBoostingClassifier\n",
      "from sklearn import metrics\n",
      "\n",
      "tree_params = {\n",
      "    'min_samples_split': [2],\n",
      "    'min_samples_leaf': [1],\n",
      "    'max_depth': [35],\n",
      "    'learning_rate': [x/20.0 for x in xrange(1, 4, 1)],\n",
      "    #'max_features': ['sqrt', 'log2', None],\n",
      "    'n_estimators': [35, 100, 300],\n",
      "    'subsample': [x/10.0 for x in xrange(7, 11, 2)]\n",
      "}\n",
      "\n",
      "n_subsamples = 500\n",
      "\n",
      "gbc = GradientBoostingClassifier(random_state=1)\n",
      "\n",
      "cv = ShuffleSplit(n_subsamples, n_iter=5, test_size=0.1)\n",
      "gbc_cl = GridSearchCV(gbc, tree_params, n_jobs=1, cv=cv)\n",
      "#%time \n",
      "gbc_cl.fit(X_train, y_train)\n",
      "display_grid_scores(gbc_cl.grid_scores_)"
     ],
     "language": "python",
     "metadata": {},
     "outputs": [
      {
       "output_type": "stream",
       "stream": "stdout",
       "text": [
        "learning_rate=0.15, min_samples_leaf=1, n_estimators=300, subsample=0.7, min_samples_split=2, max_depth=35:\t0.824 (+/-0.032) *\n",
        "learning_rate=0.05, min_samples_leaf=1, n_estimators=100, subsample=0.9, min_samples_split=2, max_depth=35:\t0.820 (+/-0.031) *\n",
        "learning_rate=0.1, min_samples_leaf=1, n_estimators=100, subsample=0.7, min_samples_split=2, max_depth=35:\t0.812 (+/-0.014) *\n",
        "learning_rate=0.15, min_samples_leaf=1, n_estimators=35, subsample=0.9, min_samples_split=2, max_depth=35:\t0.812 (+/-0.034) *\n",
        "learning_rate=0.05, min_samples_leaf=1, n_estimators=300, subsample=0.7, min_samples_split=2, max_depth=35:\t0.808 (+/-0.023) *\n",
        "learning_rate=0.05, min_samples_leaf=1, n_estimators=35, subsample=0.9, min_samples_split=2, max_depth=35:\t0.804 (+/-0.027) *\n",
        "learning_rate=0.05, min_samples_leaf=1, n_estimators=100, subsample=0.7, min_samples_split=2, max_depth=35:\t0.804 (+/-0.034) *\n",
        "learning_rate=0.15, min_samples_leaf=1, n_estimators=100, subsample=0.7, min_samples_split=2, max_depth=35:\t0.804 (+/-0.017) *\n",
        "learning_rate=0.05, min_samples_leaf=1, n_estimators=35, subsample=0.7, min_samples_split=2, max_depth=35:\t0.800 (+/-0.014) *\n",
        "learning_rate=0.05, min_samples_leaf=1, n_estimators=300, subsample=0.9, min_samples_split=2, max_depth=35:\t0.800 (+/-0.018) *\n",
        "learning_rate=0.1, min_samples_leaf=1, n_estimators=300, subsample=0.7, min_samples_split=2, max_depth=35:\t0.792 (+/-0.014) *\n",
        "learning_rate=0.15, min_samples_leaf=1, n_estimators=100, subsample=0.9, min_samples_split=2, max_depth=35:\t0.792 (+/-0.014) *\n",
        "learning_rate=0.1, min_samples_leaf=1, n_estimators=35, subsample=0.9, min_samples_split=2, max_depth=35:\t0.780 (+/-0.028) *\n",
        "learning_rate=0.1, min_samples_leaf=1, n_estimators=35, subsample=0.7, min_samples_split=2, max_depth=35:\t0.772 (+/-0.017) *\n",
        "learning_rate=0.1, min_samples_leaf=1, n_estimators=100, subsample=0.9, min_samples_split=2, max_depth=35:\t0.772 (+/-0.016) *\n",
        "learning_rate=0.1, min_samples_leaf=1, n_estimators=300, subsample=0.9, min_samples_split=2, max_depth=35:\t0.772 (+/-0.015) *\n",
        "learning_rate=0.15, min_samples_leaf=1, n_estimators=300, subsample=0.9, min_samples_split=2, max_depth=35:\t0.760 (+/-0.011) *\n",
        "learning_rate=0.15, min_samples_leaf=1, n_estimators=35, subsample=0.7, min_samples_split=2, max_depth=35:\t0.740 (+/-0.036) *\n"
       ]
      }
     ],
     "prompt_number": 450
    },
    {
     "cell_type": "code",
     "collapsed": false,
     "input": [
      "from sklearn import cross_validation\n",
      "\n",
      "\n",
      "percentiles = range(1, 100, 2)\n",
      "results = []\n",
      "\n",
      "for i in percentiles:\n",
      "    fs = feature_selection.SelectPercentile(feature_selection.chi2, percentile=i)\n",
      "    X_train_fs = fs.fit_transform(X_train, y_train)\n",
      "    \n",
      "    scores = cross_validation.cross_val_score(gbc, X_train_fs, y_train, cv=5)\n",
      "    \n",
      "    results = np.append(results, scores.mean())\n",
      "\n",
      "# this occasionally results in several equal values\n",
      "optimal_percentil = np.where(results == results.max())[0]   \n",
      "\n",
      "# so loop over them\n",
      "for p in optimal_percentil:\n",
      "    print \"Optimal number of features:{0}\".format(percentiles[p]), \"\\n\"\n",
      "    \n",
      "    \n",
      "import matplotlib.pyplot as plt\n",
      "import pylab as pl\n",
      "\n",
      "pl.figure()\n",
      "pl.xlabel(\"Number of features selected\")\n",
      "pl.ylabel(\"Cross-validation accuracy)\")\n",
      "pl.plot(percentiles, results)"
     ],
     "language": "python",
     "metadata": {},
     "outputs": [
      {
       "output_type": "stream",
       "stream": "stdout",
       "text": [
        "Optimal number of features:99 \n",
        "\n"
       ]
      },
      {
       "metadata": {},
       "output_type": "pyout",
       "prompt_number": 230,
       "text": [
        "[<matplotlib.lines.Line2D at 0x15f96a90>]"
       ]
      },
      {
       "metadata": {},
       "output_type": "display_data",
       "png": "[encoded data removed]",
       "text": [
        "<matplotlib.figure.Figure at 0x1840e2e8>"
       ]
      }
     ],
     "prompt_number": 230
    },
    {
     "cell_type": "code",
     "collapsed": false,
     "input": [
      "# pick one of the optimal percentiles, last, should (?) have the same accuracy as the other ones\n",
      "fs = feature_selection.SelectPercentile(feature_selection.chi2, percentile=percentiles[optimal_percentil[-1]])\n",
      "\n",
      "X_train_fs = fs.fit_transform(X_train, y_train)\n",
      "gbc.fit(X_train_fs, y_train)\n",
      "\n",
      "X_test_fs = fs.transform(X_test)\n",
      "y_pred_fs = gbc.predict(X_test_fs)\n",
      "\n",
      "print \"Accuracy:{0:.3f}\".format(metrics.accuracy_score(y_test, y_pred_fs)), \"\\n\"\n",
      "\n",
      "y_pred_gbc = gbc.predict(X_test_fs)\n",
      "print classification_report(y_test, y_pred_gbc)"
     ],
     "language": "python",
     "metadata": {},
     "outputs": [
      {
       "output_type": "stream",
       "stream": "stdout",
       "text": [
        "Accuracy:0.798 \n",
        "\n",
        "             precision    recall  f1-score   support\n",
        "\n",
        "          0       0.79      0.89      0.84       128\n",
        "          1       0.82      0.67      0.74        95\n",
        "\n",
        "avg / total       0.80      0.80      0.79       223\n",
        "\n"
       ]
      }
     ],
     "prompt_number": 231
    },
    {
     "cell_type": "markdown",
     "metadata": {},
     "source": [
      "Feature importance\n",
      "--------------------------------------------"
     ]
    },
    {
     "cell_type": "markdown",
     "metadata": {},
     "source": [
      "This converts feature labels into integers. Look below for why"
     ]
    },
    {
     "cell_type": "code",
     "collapsed": false,
     "input": [
      "from sklearn.preprocessing import LabelEncoder\n",
      "enc = LabelEncoder()\n",
      "\n",
      "train_X2 = train_X.copy()\n",
      "\n",
      "label_encoder = enc.fit(train_X2['Sex'])\n",
      "integer_classes = label_encoder.transform(label_encoder.classes_)\n",
      "\n",
      "t = label_encoder.transform(train_X2['Sex'])\n",
      "train_X2['Sex'] = t\n",
      "\n",
      "\n",
      "label_encoder = enc.fit(train_X2['AgeBracket:Sex'])\n",
      "integer_classes = label_encoder.transform(label_encoder.classes_)\n",
      "\n",
      "t = label_encoder.transform(train_X2['AgeBracket:Sex'])\n",
      "train_X2['AgeBracket:Sex'] = t\n",
      "\n",
      "\n",
      "label_encoder = enc.fit(train_X2['AgeBracket:Pclass'])\n",
      "integer_classes = label_encoder.transform(label_encoder.classes_)\n",
      "\n",
      "t = label_encoder.transform(train_X2['AgeBracket:Pclass'])\n",
      "train_X2['AgeBracket:Pclass'] = t\n",
      "\n",
      "\n",
      "label_encoder = enc.fit(train_X2['AgeBracket:Pclass:Sex'])\n",
      "integer_classes = label_encoder.transform(label_encoder.classes_)\n",
      "\n",
      "t = label_encoder.transform(train_X2['AgeBracket:Pclass:Sex'])\n",
      "train_X2['AgeBracket:Pclass:Sex'] = t\n",
      "\n",
      "\n",
      "\n",
      "label_encoder = enc.fit(train_X2['Title'])\n",
      "integer_classes = label_encoder.transform(label_encoder.classes_)\n",
      "\n",
      "t = label_encoder.transform(train_X2['Title'])\n",
      "train_X2['Title'] = t\n",
      "\n",
      "train_X2 = train_X2.drop(['PassengerId', 'Name', 'Embarked', 'Cabin', 'FamilyId', 'AgeBracket', 'Fare', 'Ticket'], axis=1)"
     ],
     "language": "python",
     "metadata": {},
     "outputs": [],
     "prompt_number": 242
    },
    {
     "cell_type": "markdown",
     "metadata": {},
     "source": [
      "If you want to use continuous features, which is wrong, use `train_X2`, else use `train_ohd`"
     ]
    },
    {
     "cell_type": "code",
     "collapsed": false,
     "input": [
      "X = train_ohd\n",
      "y = train_y\n",
      "\n",
      "from sklearn.cross_validation import train_test_split\n",
      "\n",
      "n_samples, n_features = X.shape\n",
      "X_train, X_test, y_train, y_test = train_test_split(\n",
      "    X, y, test_size=0.25, random_state=1)\n",
      "\n",
      "print(\"n_samples=%d\" % n_samples)\n",
      "print(\"n_features=%d\" % n_features)\n",
      "\n",
      "print(\"train data shape: %r, train target shape: %r\"\n",
      "      % (X_train.shape, y_train.shape))\n",
      "print(\"test data shape: %r, test target shape: %r\"\n",
      "      % (X_test.shape, y_test.shape))"
     ],
     "language": "python",
     "metadata": {},
     "outputs": [
      {
       "output_type": "stream",
       "stream": "stdout",
       "text": [
        "n_samples=891\n",
        "n_features=71\n",
        "train data shape: (668L, 71L), train target shape: (668L,)\n",
        "test data shape: (223L, 71L), test target shape: (223L,)\n"
       ]
      }
     ],
     "prompt_number": 281
    },
    {
     "cell_type": "code",
     "collapsed": false,
     "input": [
      "from sklearn.datasets import make_classification\n",
      "from sklearn.ensemble import ExtraTreesClassifier\n",
      "\n",
      "# Build a forest and compute the feature importances\n",
      "p = gs_trees.best_params_\n",
      "# del p['max_features']\n",
      "forest = ExtraTreesClassifier(**p)\n",
      "\n",
      "# forest = ExtraTreesClassifier(n_estimators=250,\n",
      "#                               random_state=1)\n",
      "\n",
      "forest.fit(X, y)\n",
      "importances = forest.feature_importances_\n",
      "std = np.std([tree.feature_importances_ for tree in forest.estimators_], axis=0)\n",
      "indices = np.argsort(importances)[::-1]\n",
      "\n",
      "# Print the feature ranking\n",
      "print(\"Feature ranking:\")\n",
      "\n",
      "for f in range(10):\n",
      "    print(\"%d. feature %d (%f)\" % (f + 1, indices[f], importances[indices[f]]))\n",
      "\n",
      "# Plot the feature importances of the forest\n",
      "import pylab as pl\n",
      "pl.figure()\n",
      "pl.title(\"Feature importances\")\n",
      "pl.bar(range(n_features), importances[indices],\n",
      "       color=\"r\", yerr=std[indices], align=\"center\")\n",
      "pl.xticks(range(n_features), indices)\n",
      "pl.xlim([-1, 10])\n",
      "pl.show()"
     ],
     "language": "python",
     "metadata": {},
     "outputs": [
      {
       "output_type": "stream",
       "stream": "stdout",
       "text": [
        "Feature ranking:\n",
        "1. feature 0 (0.185143)\n",
        "2. feature 63 (0.114152)\n",
        "3. feature 68 (0.106286)\n",
        "4. feature 62 (0.067361)\n",
        "5. feature 61 (0.063615)\n",
        "6. feature 60 (0.047076)\n",
        "7. feature 69 (0.027193)\n",
        "8. feature 6 (0.026626)\n",
        "9. feature 28 (0.022991)\n",
        "10. feature 67 (0.021906)\n"
       ]
      },
      {
       "metadata": {},
       "output_type": "display_data",
       "png": "[encoded data removed]",
       "text": [
        "<matplotlib.figure.Figure at 0x184424e0>"
       ]
      }
     ],
     "prompt_number": 285
    },
    {
     "cell_type": "code",
     "collapsed": false,
     "input": [
      "for feature in [X.columns[i] for i in indices[:11]]:\n",
      "    print feature"
     ],
     "language": "python",
     "metadata": {},
     "outputs": [
      {
       "output_type": "stream",
       "stream": "stdout",
       "text": [
        "Age\n",
        "Sex=male\n",
        "Title=Mr\n",
        "Sex=female\n",
        "Pclass\n",
        "FamilyId=Small\n",
        "Title=Mrs\n",
        "AgeBracket:Pclass:Sex=16-35 : 3 : male\n",
        "AgeBracket:Sex=16-35 : female\n",
        "Title=Miss\n",
        "AgeBracket:Pclass:Sex=35< : 1 : female\n"
       ]
      }
     ],
     "prompt_number": 296
    }
   ],
   "metadata": {}
  }
 ]
}