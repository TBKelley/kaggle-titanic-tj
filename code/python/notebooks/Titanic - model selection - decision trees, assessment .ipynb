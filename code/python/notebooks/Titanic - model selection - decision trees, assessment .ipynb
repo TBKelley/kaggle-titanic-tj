{
 "metadata": {
  "name": ""
 },
 "nbformat": 3,
 "nbformat_minor": 0,
 "worksheets": [
  {
   "cells": [
    {
     "cell_type": "markdown",
     "metadata": {},
     "source": [
      "Load libraries and set up graphing, load data sets\n",
      "---------------------------------------------------"
     ]
    },
    {
     "cell_type": "code",
     "collapsed": false,
     "input": [
      "%pylab inline\n",
      "from pylab import rcParams, gray\n",
      "import numpy as np\n",
      "from pandas import read_csv \n",
      "\n",
      "rcParams['figure.figsize'] = 10, 7.5\n",
      "rcParams['axes.grid'] = True\n",
      "gray()\n",
      "\n",
      "train = read_csv('../../../data/original/train.csv')\n",
      "test = read_csv('../../../data/original/test.csv')"
     ],
     "language": "python",
     "metadata": {},
     "outputs": [
      {
       "output_type": "stream",
       "stream": "stdout",
       "text": [
        "Populating the interactive namespace from numpy and matplotlib\n"
       ]
      },
      {
       "metadata": {},
       "output_type": "display_data",
       "text": [
        "<matplotlib.figure.Figure at 0x5b1c438>"
       ]
      }
     ],
     "prompt_number": 1
    },
    {
     "cell_type": "markdown",
     "metadata": {},
     "source": [
      "Clean data\n",
      "----------\n",
      "Right now this is manual, consider using OneHotEncoder for encoding categorical features.\n",
      "\n",
      "[documentation](http://scikit-learn.org/stable/modules/preprocessing.html)\n",
      "\n",
      "**Drop columns:**\n",
      "\n",
      "* PassengerId\n",
      "* Name\n",
      "* Ticket\n",
      "* Cabin\n",
      "\n",
      "Convert factors to numerical:\n",
      "\n",
      "**Sex:**\n",
      "\n",
      "* male = 1\n",
      "* female = 0\n",
      "\n",
      "**Embarked:**\n",
      "\n",
      "* C = 0\n",
      "* Q = 1\n",
      "* S = 2"
     ]
    },
    {
     "cell_type": "code",
     "collapsed": false,
     "input": [
      "from pandas import Categorical, notnull, isnull\n",
      "\n",
      "traind = train.drop(['PassengerId', 'Name', 'Ticket', 'Cabin'], axis=1)\n",
      "testd = test.drop(['PassengerId', 'Name', 'Ticket', 'Cabin'], axis=1)\n",
      "\n",
      "traind.Sex = Categorical.from_array(traind.Sex).labels\n",
      "traind.Embarked =  Categorical.from_array(traind.Embarked).labels\n",
      "testd.Sex = Categorical.from_array(testd.Sex).labels\n",
      "testd.Embarked =  Categorical.from_array(testd.Embarked).labels\n",
      "\n",
      "datan = traind.as_matrix()\n",
      "#datan = train.as_matrix()\n",
      "y = datan[0::,0]\n",
      "X = datan[0::,1::]\n",
      "\n",
      "Xtest = testd.as_matrix()"
     ],
     "language": "python",
     "metadata": {},
     "outputs": [],
     "prompt_number": 18
    },
    {
     "cell_type": "markdown",
     "metadata": {},
     "source": [
      "The dataset contains NaNs which aren't compatible with sklearn, need to impute. Strategy can be mean, median or most_frequent."
     ]
    },
    {
     "cell_type": "code",
     "collapsed": false,
     "input": [
      "from sklearn.preprocessing import Imputer\n",
      "\n",
      "imp = Imputer(missing_values='NaN', strategy='mean', axis=0)\n",
      "imp.fit(X[0::,2])\n",
      "imp.fit(Xtest[0::,2])\n",
      "X[0::,2][isnull(X[0::,2])] = imp.transform(X[0::,2])\n",
      "Xtest[0::,2][isnull(Xtest[0::,2])] = imp.transform(Xtest[0::,2])\n",
      "\n",
      "imp = Imputer(missing_values='NaN', strategy='median', axis=0)\n",
      "imp.fit(Xtest[0::,5])\n",
      "Xtest[0::,5][isnull(Xtest[0::,5])] = imp.transform(Xtest[0::,5])"
     ],
     "language": "python",
     "metadata": {},
     "outputs": [],
     "prompt_number": 19
    },
    {
     "cell_type": "code",
     "collapsed": false,
     "input": [
      "from sklearn.tree import DecisionTreeClassifier\n",
      "DecisionTreeClassifier()"
     ],
     "language": "python",
     "metadata": {},
     "outputs": [
      {
       "metadata": {},
       "output_type": "pyout",
       "prompt_number": 20,
       "text": [
        "DecisionTreeClassifier(compute_importances=None, criterion='gini',\n",
        "            max_depth=None, max_features=None, min_density=None,\n",
        "            min_samples_leaf=1, min_samples_split=2, random_state=None,\n",
        "            splitter='best')"
       ]
      }
     ],
     "prompt_number": 20
    },
    {
     "cell_type": "code",
     "collapsed": false,
     "input": [
      "from sklearn.cross_validation import train_test_split\n",
      "\n",
      "n_samples, n_features = X.shape\n",
      "X_train, X_test, y_train, y_test = train_test_split(\n",
      "    X, y, test_size=0.25, random_state=0)\n",
      "\n",
      "print(\"n_samples=%d\" % n_samples)\n",
      "print(\"n_features=%d\" % n_features)\n",
      "\n",
      "print(\"train data shape: %r, train target shape: %r\"\n",
      "      % (X_train.shape, y_train.shape))\n",
      "print(\"test data shape: %r, test target shape: %r\"\n",
      "      % (X_test.shape, y_test.shape))"
     ],
     "language": "python",
     "metadata": {},
     "outputs": [
      {
       "output_type": "stream",
       "stream": "stdout",
       "text": [
        "n_samples=891\n",
        "n_features=7\n",
        "train data shape: (668L, 7L), train target shape: (668L,)\n",
        "test data shape: (223L, 7L), test target shape: (223L,)\n"
       ]
      }
     ],
     "prompt_number": 21
    },
    {
     "cell_type": "code",
     "collapsed": false,
     "input": [
      "from scipy.stats import sem\n",
      "\n",
      "def mean_score(scores):\n",
      "    \"\"\"Print the empirical mean score and standard error of the mean.\"\"\"\n",
      "    return (\"Mean score: {0:.3f} (+/-{1:.3f})\").format(\n",
      "        np.mean(scores), sem(scores))\n",
      "\n",
      "def display_scores(params, scores, append_star=False):\n",
      "    \"\"\"Format the mean score +/- std error for params\"\"\"\n",
      "    params = \", \".join(\"{0}={1}\".format(k, v)\n",
      "                      for k, v in params.items())\n",
      "    line = \"{0}:\\t{1:.3f} (+/-{2:.3f})\".format(\n",
      "        params, np.mean(scores), sem(scores))\n",
      "    if append_star:\n",
      "        line += \" *\"\n",
      "    return line\n",
      "\n",
      "def display_grid_scores(grid_scores, top=None):\n",
      "    \"\"\"Helper function to format a report on a grid of scores\"\"\"\n",
      "    \n",
      "    grid_scores = sorted(grid_scores, key=lambda x: x[1], reverse=True)\n",
      "    if top is not None:\n",
      "        grid_scores = grid_scores[:top]\n",
      "        \n",
      "    # Compute a threshold for staring models with overlapping\n",
      "    # stderr:\n",
      "    _, best_mean, best_scores = grid_scores[0]\n",
      "    threshold = best_mean - 2 * sem(best_scores)\n",
      "    \n",
      "    for params, mean_score, scores in grid_scores:\n",
      "        append_star = mean_score + 2 * sem(scores) > threshold\n",
      "        print(display_scores(params, scores, append_star=append_star))"
     ],
     "language": "python",
     "metadata": {},
     "outputs": [],
     "prompt_number": 22
    },
    {
     "cell_type": "code",
     "collapsed": false,
     "input": [
      "from sklearn.cross_validation import ShuffleSplit\n",
      "from sklearn.grid_search import GridSearchCV\n",
      "\n",
      "\n",
      "tree = DecisionTreeClassifier()\n",
      "\n",
      "n_subsamples = 500\n",
      "\n",
      "tree_params = {\n",
      "    'criterion': ['gini', 'entropy'],\n",
      "    'min_samples_split': [2, 10, 20],\n",
      "    'max_depth': [5, 7, None],\n",
      "}\n",
      "\n",
      "cv = ShuffleSplit(n_subsamples, n_iter=50, test_size=0.1)\n",
      "gs_tree = GridSearchCV(tree, tree_params, n_jobs=-1, cv=cv)\n",
      "\n",
      "%time gs_tree.fit(X_train[:n_samples], y_train[:n_samples])\n",
      "display_grid_scores(gs_tree.grid_scores_)"
     ],
     "language": "python",
     "metadata": {},
     "outputs": [
      {
       "output_type": "stream",
       "stream": "stdout",
       "text": [
        "Wall time: 4.5 s\n",
        "min_samples_split=20, criterion=gini, max_depth=7:\t0.831 (+/-0.008) *\n",
        "min_samples_split=10, criterion=gini, max_depth=7:\t0.828 (+/-0.007) *\n",
        "min_samples_split=10, criterion=gini, max_depth=5:\t0.828 (+/-0.007) *\n",
        "min_samples_split=20, criterion=gini, max_depth=5:\t0.826 (+/-0.009) *\n",
        "min_samples_split=2, criterion=entropy, max_depth=5:\t0.825 (+/-0.009) *\n",
        "min_samples_split=10, criterion=entropy, max_depth=5:\t0.823 (+/-0.006) *\n",
        "min_samples_split=10, criterion=entropy, max_depth=7:\t0.823 (+/-0.007) *\n",
        "min_samples_split=2, criterion=gini, max_depth=7:\t0.820 (+/-0.008) *\n",
        "min_samples_split=10, criterion=gini, max_depth=None:\t0.817 (+/-0.007) *\n",
        "min_samples_split=20, criterion=entropy, max_depth=5:\t0.816 (+/-0.008) *\n",
        "min_samples_split=2, criterion=gini, max_depth=5:\t0.810 (+/-0.008) *\n",
        "min_samples_split=20, criterion=gini, max_depth=None:\t0.810 (+/-0.009) *\n",
        "min_samples_split=2, criterion=entropy, max_depth=7:\t0.807 (+/-0.008) *\n",
        "min_samples_split=20, criterion=entropy, max_depth=7:\t0.807 (+/-0.009) *\n",
        "min_samples_split=20, criterion=entropy, max_depth=None:\t0.804 (+/-0.011) *\n",
        "min_samples_split=10, criterion=entropy, max_depth=None:\t0.802 (+/-0.007)\n",
        "min_samples_split=2, criterion=entropy, max_depth=None:\t0.784 (+/-0.008)\n",
        "min_samples_split=2, criterion=gini, max_depth=None:\t0.769 (+/-0.008)\n"
       ]
      }
     ],
     "prompt_number": 23
    },
    {
     "cell_type": "code",
     "collapsed": false,
     "input": [
      "unreg_tree = DecisionTreeClassifier(criterion='entropy', max_depth=None,\n",
      "                                    min_samples_split=2)\n",
      "unreg_tree.fit(X_train, y_train)\n",
      "print(\"Train score: %0.3f\" % unreg_tree.score(X_train, y_train))\n",
      "print(\"Test score: %0.3f\" % unreg_tree.score(X_test, y_test))"
     ],
     "language": "python",
     "metadata": {},
     "outputs": [
      {
       "output_type": "stream",
       "stream": "stdout",
       "text": [
        "Train score: 0.987\n",
        "Test score: 0.744\n"
       ]
      }
     ],
     "prompt_number": 24
    },
    {
     "cell_type": "code",
     "collapsed": false,
     "input": [
      "reg_tree = DecisionTreeClassifier(criterion='entropy', max_depth=6,\n",
      "                                    min_samples_split=10)\n",
      "reg_tree.fit(X_train, y_train)\n",
      "print(\"Train score: %0.3f\" % reg_tree.score(X_train, y_train))\n",
      "print(\"Test score: %0.3f\" % reg_tree.score(X_test, y_test))"
     ],
     "language": "python",
     "metadata": {},
     "outputs": [
      {
       "output_type": "stream",
       "stream": "stdout",
       "text": [
        "Train score: 0.858\n",
        "Test score: 0.789\n"
       ]
      }
     ],
     "prompt_number": 25
    },
    {
     "cell_type": "markdown",
     "metadata": {},
     "source": [
      "### Ensamble using ExtraTreesClassifier"
     ]
    },
    {
     "cell_type": "code",
     "collapsed": false,
     "input": [
      "from sklearn.ensemble import ExtraTreesClassifier\n",
      "print(ExtraTreesClassifier())\n",
      "#ExtraTreesClassifier?"
     ],
     "language": "python",
     "metadata": {},
     "outputs": [
      {
       "output_type": "stream",
       "stream": "stdout",
       "text": [
        "ExtraTreesClassifier(bootstrap=False, compute_importances=None,\n",
        "           criterion=gini, max_depth=None, max_features=auto,\n",
        "           min_density=None, min_samples_leaf=1, min_samples_split=2,\n",
        "           n_estimators=10, n_jobs=1, oob_score=False, random_state=None,\n",
        "           verbose=0)\n"
       ]
      }
     ],
     "prompt_number": 26
    },
    {
     "cell_type": "code",
     "collapsed": false,
     "input": [
      "trees = ExtraTreesClassifier(n_estimators=30)\n",
      "\n",
      "cv = ShuffleSplit(n_subsamples, n_iter=5, test_size=0.1)\n",
      "gs_trees = GridSearchCV(trees, tree_params, n_jobs=-1, cv=cv)\n",
      "\n",
      "%time gs_trees.fit(X_train, y_train)\n",
      "display_grid_scores(gs_trees.grid_scores_)"
     ],
     "language": "python",
     "metadata": {},
     "outputs": [
      {
       "output_type": "stream",
       "stream": "stdout",
       "text": [
        "Wall time: 3.87 s\n",
        "min_samples_split=20, criterion=entropy, max_depth=None:\t0.848 (+/-0.010) *\n",
        "min_samples_split=10, criterion=entropy, max_depth=5:\t0.832 (+/-0.027) *\n",
        "min_samples_split=2, criterion=entropy, max_depth=7:\t0.832 (+/-0.015) *\n",
        "min_samples_split=20, criterion=gini, max_depth=None:\t0.828 (+/-0.015) *\n",
        "min_samples_split=20, criterion=entropy, max_depth=7:\t0.828 (+/-0.024) *\n",
        "min_samples_split=2, criterion=entropy, max_depth=5:\t0.824 (+/-0.028) *\n",
        "min_samples_split=20, criterion=entropy, max_depth=5:\t0.816 (+/-0.016) *\n",
        "min_samples_split=10, criterion=entropy, max_depth=7:\t0.816 (+/-0.028) *\n",
        "min_samples_split=2, criterion=gini, max_depth=5:\t0.812 (+/-0.027) *\n",
        "min_samples_split=10, criterion=gini, max_depth=5:\t0.808 (+/-0.017) *\n",
        "min_samples_split=10, criterion=gini, max_depth=7:\t0.804 (+/-0.016) *\n",
        "min_samples_split=2, criterion=entropy, max_depth=None:\t0.804 (+/-0.020) *\n",
        "min_samples_split=2, criterion=gini, max_depth=7:\t0.800 (+/-0.009)\n",
        "min_samples_split=20, criterion=gini, max_depth=5:\t0.796 (+/-0.017) *\n",
        "min_samples_split=2, criterion=gini, max_depth=None:\t0.792 (+/-0.015)\n",
        "min_samples_split=10, criterion=entropy, max_depth=None:\t0.792 (+/-0.015)\n",
        "min_samples_split=10, criterion=gini, max_depth=None:\t0.776 (+/-0.004)\n",
        "min_samples_split=20, criterion=gini, max_depth=7:\t0.768 (+/-0.019)\n"
       ]
      }
     ],
     "prompt_number": 27
    },
    {
     "cell_type": "markdown",
     "metadata": {},
     "source": [
      "The test score will vary on re-runs depending on splits"
     ]
    },
    {
     "cell_type": "code",
     "collapsed": false,
     "input": [
      "unreg_trees = ExtraTreesClassifier(n_estimators=50, max_depth=None, min_samples_split=20)\n",
      "unreg_trees.fit(X_train, y_train)\n",
      "print(\"Train score: %0.3f\" % unreg_trees.score(X_train, y_train))\n",
      "print(\"Test score: %0.3f\" % unreg_trees.score(X_test, y_test))"
     ],
     "language": "python",
     "metadata": {},
     "outputs": [
      {
       "output_type": "stream",
       "stream": "stdout",
       "text": [
        "Train score: 0.865\n",
        "Test score: 0.816\n"
       ]
      }
     ],
     "prompt_number": 45
    },
    {
     "cell_type": "code",
     "collapsed": false,
     "input": [
      "reg_trees = ExtraTreesClassifier(n_estimators=50, max_depth=6, min_samples_split=10)\n",
      "reg_trees.fit(X_train, y_train)\n",
      "print(\"Train score: %0.3f\" % reg_trees.score(X_train, y_train))\n",
      "print(\"Test score: %0.3f\" % reg_trees.score(X_test, y_test))"
     ],
     "language": "python",
     "metadata": {},
     "outputs": [
      {
       "output_type": "stream",
       "stream": "stdout",
       "text": [
        "Train score: 0.843\n",
        "Test score: 0.807\n"
       ]
      }
     ],
     "prompt_number": 49
    },
    {
     "cell_type": "code",
     "collapsed": false,
     "input": [
      "pred = reg_trees.predict(Xtest)"
     ],
     "language": "python",
     "metadata": {},
     "outputs": [],
     "prompt_number": 34
    },
    {
     "cell_type": "code",
     "collapsed": false,
     "input": [
      "from pandas import DataFrame\n",
      "\n",
      "pred = pred.astype(numpy.int64)\n",
      "df = DataFrame(data={'Survived': pred, 'PassengerId': test['PassengerId']})\n",
      "df = df.ix[:,['Survived', 'PassengerId']]"
     ],
     "language": "python",
     "metadata": {},
     "outputs": [],
     "prompt_number": 95
    },
    {
     "cell_type": "code",
     "collapsed": false,
     "input": [
      "df.to_csv('../../../data/predicted/extra_tree_classifier.txt', index=False)"
     ],
     "language": "python",
     "metadata": {},
     "outputs": [],
     "prompt_number": 96
    }
   ],
   "metadata": {}
  }
 ]
}